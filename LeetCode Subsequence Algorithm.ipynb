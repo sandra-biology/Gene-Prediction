{
 "cells": [
  {
   "cell_type": "code",
   "execution_count": null,
   "metadata": {},
   "outputs": [],
   "source": [
    "class Solution:\n",
    "    def isSubsequence(self, s: str, t: str) -> bool:\n",
    "        pass\n",
    "\n",
    "s = 'abc'\n",
    "t = 'ahbgdc'"
   ]
  },
  {
   "cell_type": "code",
   "execution_count": 3,
   "metadata": {},
   "outputs": [
    {
     "name": "stdout",
     "output_type": "stream",
     "text": [
      "if branch: s[0] == t[0]: True\n",
      "false, subsequence not found\n"
     ]
    }
   ],
   "source": [
    "s = 'abc'\n",
    "t = 'ahbgdc'\n",
    "\n",
    "i_t = 0\n",
    "i_s = 0\n",
    "subsequence_found = 0\n",
    "for i_s in range(len(s)):\n",
    "    if s[i_s] == t[i_t]:\n",
    "        print(f'if branch: s[{i_s}] == t[{i_t}]: {s[i_s] == t[i_t]}')\n",
    "        subsequence_found += 1\n",
    "        i_s += 1\n",
    "        i_t += 1\n",
    "    else:\n",
    "        subsequence_found -= 1\n",
    "        i_t += 1\n",
    "\n",
    "if subsequence_found > 0:\n",
    "    print('true, subsequence found')\n",
    "else:\n",
    "    print('false, subsequence not found')"
   ]
  },
  {
   "cell_type": "code",
   "execution_count": 6,
   "metadata": {},
   "outputs": [
    {
     "name": "stdout",
     "output_type": "stream",
     "text": [
      "if branch: s[0] == t[0]: True\n",
      "if branch: subsequence_found: 1\n",
      "else branch: s[1] == t[1]: False\n",
      "else branch: subsequence_found: 0\n",
      "if branch: s[1] == t[2]: True\n",
      "if branch: subsequence_found: 1\n",
      "else branch: s[2] == t[3]: False\n",
      "else branch: subsequence_found: 0\n",
      "else branch: s[2] == t[4]: False\n",
      "else branch: subsequence_found: -1\n",
      "if branch: s[2] == t[5]: True\n",
      "if branch: subsequence_found: 0\n",
      "false, subsequence not found\n"
     ]
    }
   ],
   "source": [
    "#    012345\n",
    "s = 'abc'\n",
    "t = 'ahbgdc'\n",
    "\n",
    "i_t = 0\n",
    "i_s = 0\n",
    "subsequence_found = 0\n",
    "while i_s < len(s):\n",
    "    if s[i_s] == t[i_t]:\n",
    "        print(f'if branch: s[{i_s}] == t[{i_t}]: {s[i_s] == t[i_t]}')\n",
    "        subsequence_found += 1\n",
    "        print(f'if branch: subsequence_found: {subsequence_found}')\n",
    "        i_s += 1\n",
    "        i_t += 1\n",
    "    else:\n",
    "        print(f'else branch: s[{i_s}] == t[{i_t}]: {s[i_s] == t[i_t]}')\n",
    "        subsequence_found -= 1\n",
    "        print(f'else branch: subsequence_found: {subsequence_found}')\n",
    "        i_t += 1\n",
    "\n",
    "if subsequence_found > 0:\n",
    "    print('true, subsequence found')\n",
    "else:\n",
    "    print('false, subsequence not found')"
   ]
  },
  {
   "cell_type": "code",
   "execution_count": 1,
   "metadata": {},
   "outputs": [
    {
     "name": "stdout",
     "output_type": "stream",
     "text": [
      "if branch: s[0] == t[0]: True\n",
      "if branch: subsequence_found: 1\n",
      "else branch: s[1] == t[1]: False\n",
      "else branch: subsequence_found: 0\n",
      "if branch: s[1] == t[2]: True\n",
      "if branch: subsequence_found: 1\n",
      "else branch: s[2] == t[3]: False\n",
      "else branch: subsequence_found: 0\n",
      "else branch: s[2] == t[4]: False\n",
      "else branch: subsequence_found: -1\n",
      "if branch: s[2] == t[5]: True\n",
      "if branch: subsequence_found: 0\n",
      "true, subsequence found\n"
     ]
    }
   ],
   "source": [
    "#    012345\n",
    "s = 'abc'\n",
    "t = 'ahbgdc'\n",
    "\n",
    "i_t = 0\n",
    "i_s = 0\n",
    "subsequence_found = 0\n",
    "while i_s < len(s):\n",
    "    if s[i_s] == t[i_t]:\n",
    "        print(f'if branch: s[{i_s}] == t[{i_t}]: {s[i_s] == t[i_t]}')\n",
    "        subsequence_found += 1\n",
    "        print(f'if branch: subsequence_found: {subsequence_found}')\n",
    "        i_s += 1\n",
    "        i_t += 1\n",
    "    else:\n",
    "        print(f'else branch: s[{i_s}] == t[{i_t}]: {s[i_s] == t[i_t]}')\n",
    "        subsequence_found -= 1\n",
    "        print(f'else branch: subsequence_found: {subsequence_found}')\n",
    "        i_t += 1\n",
    "\n",
    "if subsequence_found >= 0:\n",
    "    print('true, subsequence found')\n",
    "else:\n",
    "    print('false, subsequence not found')"
   ]
  },
  {
   "cell_type": "code",
   "execution_count": 2,
   "metadata": {},
   "outputs": [
    {
     "name": "stdout",
     "output_type": "stream",
     "text": [
      "if branch: s[0] == t[0]: True\n",
      "if branch: subsequence_found: 1\n",
      "else branch: s[1] == t[1]: False\n",
      "else branch: subsequence_found: 0\n",
      "else branch: s[1] == t[2]: False\n",
      "else branch: subsequence_found: -1\n",
      "else branch: s[1] == t[3]: False\n",
      "else branch: subsequence_found: -2\n",
      "else branch: s[1] == t[4]: False\n",
      "else branch: subsequence_found: -3\n",
      "else branch: s[1] == t[5]: False\n",
      "else branch: subsequence_found: -4\n"
     ]
    },
    {
     "ename": "IndexError",
     "evalue": "string index out of range",
     "output_type": "error",
     "traceback": [
      "\u001b[0;31m---------------------------------------------------------------------------\u001b[0m",
      "\u001b[0;31mIndexError\u001b[0m                                Traceback (most recent call last)",
      "Input \u001b[0;32mIn [2]\u001b[0m, in \u001b[0;36m<cell line: 8>\u001b[0;34m()\u001b[0m\n\u001b[1;32m      7\u001b[0m subsequence_found \u001b[38;5;241m=\u001b[39m \u001b[38;5;241m0\u001b[39m\n\u001b[1;32m      8\u001b[0m \u001b[38;5;28;01mwhile\u001b[39;00m i_s \u001b[38;5;241m<\u001b[39m \u001b[38;5;28mlen\u001b[39m(s):\n\u001b[0;32m----> 9\u001b[0m     \u001b[38;5;28;01mif\u001b[39;00m s[i_s] \u001b[38;5;241m==\u001b[39m \u001b[43mt\u001b[49m\u001b[43m[\u001b[49m\u001b[43mi_t\u001b[49m\u001b[43m]\u001b[49m:\n\u001b[1;32m     10\u001b[0m         \u001b[38;5;28mprint\u001b[39m(\u001b[38;5;124mf\u001b[39m\u001b[38;5;124m'\u001b[39m\u001b[38;5;124mif branch: s[\u001b[39m\u001b[38;5;132;01m{\u001b[39;00mi_s\u001b[38;5;132;01m}\u001b[39;00m\u001b[38;5;124m] == t[\u001b[39m\u001b[38;5;132;01m{\u001b[39;00mi_t\u001b[38;5;132;01m}\u001b[39;00m\u001b[38;5;124m]: \u001b[39m\u001b[38;5;132;01m{\u001b[39;00ms[i_s] \u001b[38;5;241m==\u001b[39m t[i_t]\u001b[38;5;132;01m}\u001b[39;00m\u001b[38;5;124m'\u001b[39m)\n\u001b[1;32m     11\u001b[0m         subsequence_found \u001b[38;5;241m+\u001b[39m\u001b[38;5;241m=\u001b[39m \u001b[38;5;241m1\u001b[39m\n",
      "\u001b[0;31mIndexError\u001b[0m: string index out of range"
     ]
    }
   ],
   "source": [
    "#    012345\n",
    "s = 'axc'\n",
    "t = 'ahbgdc'\n",
    "\n",
    "i_t = 0\n",
    "i_s = 0\n",
    "subsequence_found = 0\n",
    "while i_s < len(s):\n",
    "    if s[i_s] == t[i_t]:\n",
    "        print(f'if branch: s[{i_s}] == t[{i_t}]: {s[i_s] == t[i_t]}')\n",
    "        subsequence_found += 1\n",
    "        print(f'if branch: subsequence_found: {subsequence_found}')\n",
    "        i_s += 1\n",
    "        i_t += 1\n",
    "    else:\n",
    "        print(f'else branch: s[{i_s}] == t[{i_t}]: {s[i_s] == t[i_t]}')\n",
    "        subsequence_found -= 1\n",
    "        print(f'else branch: subsequence_found: {subsequence_found}')\n",
    "        i_t += 1\n",
    "\n",
    "if subsequence_found >= 0:\n",
    "    print('true, subsequence found')\n",
    "else:\n",
    "    print('false, subsequence not found')"
   ]
  },
  {
   "cell_type": "code",
   "execution_count": 4,
   "metadata": {},
   "outputs": [
    {
     "name": "stdout",
     "output_type": "stream",
     "text": [
      "if branch: s[0] == t[0]: True\n",
      "if branch: subsequence_found: 1\n",
      "else branch: s[1] == t[1]: False\n",
      "else branch: subsequence_found: 0\n",
      "if branch: s[1] == t[2]: True\n",
      "if branch: subsequence_found: 1\n",
      "else branch: s[2] == t[3]: False\n",
      "else branch: subsequence_found: 0\n",
      "else branch: s[2] == t[4]: False\n",
      "else branch: subsequence_found: -1\n",
      "if branch: s[2] == t[5]: True\n",
      "if branch: subsequence_found: 0\n",
      "true, subsequence found\n"
     ]
    }
   ],
   "source": [
    "#    012345\n",
    "#s = 'axc'\n",
    "s = 'abc'\n",
    "t = 'ahbgdc'\n",
    "\n",
    "i_t = 0\n",
    "i_s = 0\n",
    "subsequence_found = 0\n",
    "while i_s < len(s) and i_t < len(t):\n",
    "    if s[i_s] == t[i_t]:\n",
    "        print(f'if branch: s[{i_s}] == t[{i_t}]: {s[i_s] == t[i_t]}')\n",
    "        subsequence_found += 1\n",
    "        print(f'if branch: subsequence_found: {subsequence_found}')\n",
    "        i_s += 1\n",
    "        i_t += 1\n",
    "    else:\n",
    "        print(f'else branch: s[{i_s}] == t[{i_t}]: {s[i_s] == t[i_t]}')\n",
    "        subsequence_found -= 1\n",
    "        print(f'else branch: subsequence_found: {subsequence_found}')\n",
    "        i_t += 1\n",
    "\n",
    "if subsequence_found >= 0:\n",
    "    print('true, subsequence found')\n",
    "else:\n",
    "    print('false, subsequence not found')"
   ]
  },
  {
   "cell_type": "code",
   "execution_count": 5,
   "metadata": {},
   "outputs": [
    {
     "name": "stdout",
     "output_type": "stream",
     "text": [
      "if branch: s[0] == t[0]: True\n",
      "if branch: subsequence_found: 1\n",
      "else branch: s[1] == t[1]: False\n",
      "else branch: subsequence_found: 0\n",
      "if branch: s[1] == t[2]: True\n",
      "if branch: subsequence_found: 1\n",
      "else branch: s[2] == t[3]: False\n",
      "else branch: subsequence_found: 0\n",
      "else branch: s[2] == t[4]: False\n",
      "else branch: subsequence_found: -1\n",
      "if branch: s[2] == t[5]: True\n",
      "if branch: subsequence_found: 0\n"
     ]
    },
    {
     "data": {
      "text/plain": [
       "True"
      ]
     },
     "execution_count": 5,
     "metadata": {},
     "output_type": "execute_result"
    }
   ],
   "source": [
    "class Solution:\n",
    "    def isSubsequence(self, s: str, t: str) -> bool:\n",
    "        i_t = 0\n",
    "        i_s = 0\n",
    "        subsequence_found = 0\n",
    "        while i_s < len(s) and i_t < len(t):\n",
    "            if s[i_s] == t[i_t]:\n",
    "                print(f'if branch: s[{i_s}] == t[{i_t}]: {s[i_s] == t[i_t]}')\n",
    "                subsequence_found += 1\n",
    "                print(f'if branch: subsequence_found: {subsequence_found}')\n",
    "                i_s += 1\n",
    "                i_t += 1\n",
    "            else:\n",
    "                print(f'else branch: s[{i_s}] == t[{i_t}]: {s[i_s] == t[i_t]}')\n",
    "                subsequence_found -= 1\n",
    "                print(f'else branch: subsequence_found: {subsequence_found}')\n",
    "                i_t += 1\n",
    "        \n",
    "        return subsequence_found >= 0\n",
    "\n",
    "solution = Solution()\n",
    "s = 'abc'\n",
    "t = 'ahbgdc'\n",
    "solution.isSubsequence(s, t)"
   ]
  },
  {
   "cell_type": "code",
   "execution_count": 7,
   "metadata": {},
   "outputs": [
    {
     "data": {
      "text/plain": [
       "True"
      ]
     },
     "execution_count": 7,
     "metadata": {},
     "output_type": "execute_result"
    }
   ],
   "source": [
    "class Solution:\n",
    "    def isSubsequence(self, s: str, t: str) -> bool:\n",
    "        i_t = 0\n",
    "        i_s = 0\n",
    "        subsequence_found = 0\n",
    "        while i_s < len(s) and i_t < len(t):\n",
    "            if s[i_s] == t[i_t]:\n",
    "                # print(f'if branch: s[{i_s}] == t[{i_t}]: {s[i_s] == t[i_t]}')\n",
    "                subsequence_found += 1\n",
    "                # print(f'if branch: subsequence_found: {subsequence_found}')\n",
    "                i_s += 1\n",
    "                i_t += 1\n",
    "            else:\n",
    "                # print(f'else branch: s[{i_s}] == t[{i_t}]: {s[i_s] == t[i_t]}')\n",
    "                subsequence_found -= 1\n",
    "                # print(f'else branch: subsequence_found: {subsequence_found}')\n",
    "                i_t += 1\n",
    "        \n",
    "        return subsequence_found >= 0\n",
    "\n",
    "solution = Solution()\n",
    "# s = 'abc'\n",
    "s = 'axc'\n",
    "# t = 'ahbgdc'\n",
    "t = ''\n",
    "solution.isSubsequence(s, t)"
   ]
  },
  {
   "cell_type": "code",
   "execution_count": 13,
   "metadata": {},
   "outputs": [
    {
     "data": {
      "text/plain": [
       "False"
      ]
     },
     "execution_count": 13,
     "metadata": {},
     "output_type": "execute_result"
    }
   ],
   "source": [
    "class Solution:\n",
    "    def isSubsequence(self, s: str, t: str) -> bool:\n",
    "        if len(s) > len(t):\n",
    "            return False\n",
    "        else:\n",
    "            i_t = 0\n",
    "            i_s = 0\n",
    "            subsequence_found = 0\n",
    "            while i_s < len(s) and i_t < len(t):\n",
    "                if s[i_s] == t[i_t]:\n",
    "                    # print(f'if branch: s[{i_s}] == t[{i_t}]: {s[i_s] == t[i_t]}')\n",
    "                    subsequence_found += 1\n",
    "                    # print(f'if branch: subsequence_found: {subsequence_found}')\n",
    "                    i_s += 1\n",
    "                    i_t += 1\n",
    "                else:\n",
    "                    # print(f'else branch: s[{i_s}] == t[{i_t}]: {s[i_s] == t[i_t]}')\n",
    "                    subsequence_found -= 1\n",
    "                    # print(f'else branch: subsequence_found: {subsequence_found}')\n",
    "                    i_t += 1\n",
    "            \n",
    "            return subsequence_found >= 0\n",
    "\n",
    "solution = Solution()\n",
    "# s = 'abc'\n",
    "s = 'axc'\n",
    "# t = 'ahbgdc'\n",
    "t = ''\n",
    "solution.isSubsequence(s, t)"
   ]
  },
  {
   "cell_type": "code",
   "execution_count": 17,
   "metadata": {},
   "outputs": [
    {
     "data": {
      "text/plain": [
       "False"
      ]
     },
     "execution_count": 17,
     "metadata": {},
     "output_type": "execute_result"
    }
   ],
   "source": [
    "class Solution:\n",
    "    def isSubsequence(self, s: str, t: str) -> bool:\n",
    "        to_find = 0\n",
    "        for i in range(len(t)):\n",
    "            if t[i] == s[to_find]:\n",
    "                to_find += 1\n",
    "                if to_find == len(s):\n",
    "                    return True\n",
    "        \n",
    "        return False\n",
    "\n",
    "\n",
    "solution = Solution()\n",
    "# s = 'abc'\n",
    "# s = 'axc'\n",
    "s = 'aaaaaa'\n",
    "# t = 'ahbgdc'\n",
    "# t = ''\n",
    "t = 'bbaaaa'\n",
    "solution.isSubsequence(s, t)"
   ]
  },
  {
   "cell_type": "code",
   "execution_count": 20,
   "metadata": {},
   "outputs": [
    {
     "data": {
      "text/plain": [
       "False"
      ]
     },
     "execution_count": 20,
     "metadata": {},
     "output_type": "execute_result"
    }
   ],
   "source": [
    "class Solution:\n",
    "    def isSubsequence(self, s: str, t: str) -> bool:\n",
    "        if len(s) ==  0:\n",
    "            return True\n",
    "        \n",
    "        if len(s) > len(t):\n",
    "            return False\n",
    "\n",
    "        to_find = 0\n",
    "        for i in range(len(t)):\n",
    "            if t[i] == s[to_find]:\n",
    "                to_find += 1\n",
    "                if to_find == len(s):\n",
    "                    return True\n",
    "        \n",
    "        return False\n",
    "\n",
    "\n",
    "solution = Solution()\n",
    "# s = 'abc'\n",
    "# s = 'axc'\n",
    "# s = 'aaaaaa'\n",
    "s = ''\n",
    "t = 'ahbgdc'\n",
    "# t = ''\n",
    "# t = 'bbaaaa'\n",
    "solution.isSubsequence(s, t)"
   ]
  }
 ],
 "metadata": {
  "kernelspec": {
   "display_name": "base",
   "language": "python",
   "name": "python3"
  },
  "language_info": {
   "codemirror_mode": {
    "name": "ipython",
    "version": 3
   },
   "file_extension": ".py",
   "mimetype": "text/x-python",
   "name": "python",
   "nbconvert_exporter": "python",
   "pygments_lexer": "ipython3",
   "version": "3.9.12"
  }
 },
 "nbformat": 4,
 "nbformat_minor": 2
}
