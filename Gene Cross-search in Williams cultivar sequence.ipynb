{
 "cells": [
  {
   "cell_type": "markdown",
   "metadata": {},
   "source": [
    "### I am reading the start, stop indices for all candidate genes found in the Forrest Gene Search notebook and searching for sequence or subsequence of each gene in the Williams cultivar chromosome sequence (first chromosome 8 sequence, then chromosome 5 sequence)"
   ]
  },
  {
   "cell_type": "markdown",
   "metadata": {},
   "source": [
    "#### Starting with candidate genes that have TAA as their stop codon"
   ]
  },
  {
   "cell_type": "code",
   "execution_count": null,
   "metadata": {},
   "outputs": [],
   "source": []
  }
 ],
 "metadata": {
  "language_info": {
   "name": "python"
  }
 },
 "nbformat": 4,
 "nbformat_minor": 2
}
