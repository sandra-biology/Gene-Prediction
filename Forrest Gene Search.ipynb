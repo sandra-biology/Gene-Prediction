{
 "cells": [
  {
   "cell_type": "code",
   "execution_count": 5,
   "metadata": {},
   "outputs": [
    {
     "name": "stdout",
     "output_type": "stream",
     "text": [
      "/Users/sandra/work/Bioinformatics/Soybeans\n"
     ]
    }
   ],
   "source": [
    "cd /Users/sandra/work/Bioinformatics/Soybeans"
   ]
  },
  {
   "cell_type": "code",
   "execution_count": 10,
   "metadata": {},
   "outputs": [
    {
     "data": {
      "text/plain": [
       "'/Users/sandra/work/Bioinformatics/Soybeans'"
      ]
     },
     "execution_count": 10,
     "metadata": {},
     "output_type": "execute_result"
    }
   ],
   "source": [
    "pwd"
   ]
  },
  {
   "cell_type": "code",
   "execution_count": 11,
   "metadata": {},
   "outputs": [
    {
     "data": {
      "text/plain": [
       "'> [Glycine max] Forrest B100B10 BAC sequence, Rhg4 \\nCCCTCGCGAGTTGGTTCAGCTGCTGCCTGAGGCTGGACGACCTCGCGG'"
      ]
     },
     "execution_count": 11,
     "metadata": {},
     "output_type": "execute_result"
    }
   ],
   "source": [
    "with open('Forrest B100B10 BAC sequence Rhg4.txt', 'r') as forrest_file:\n",
    "    forrest_seq = forrest_file.read()\n",
    "\n",
    "forrest_seq[:100]"
   ]
  },
  {
   "cell_type": "code",
   "execution_count": 34,
   "metadata": {},
   "outputs": [
    {
     "data": {
      "text/plain": [
       "'> [Glycine max] Forrest B100B10 BAC sequence, Rhg4CCCTCGCGAGTTGGTTCAGCTGCTGCCTGAGGCTGGACGACCTCGCGGAGTTCTACCGGCAGTGCAAATCCGTCGGCATCCAGGAAACCAGCAGCGGCTATCCGCGCATCCATGCCCCCGAACTGCAGGAGTGGGGAGGCACGATGGCCGCTTTGGTCGACCTGCAGGGGGGGGGGGCGCTGAGGTCTGCCTCGTGAAGAAGGTGTTGCTGACTCATACCAGGCCTGAATCGCCCCATCATCCAGCCAGA'"
      ]
     },
     "execution_count": 34,
     "metadata": {},
     "output_type": "execute_result"
    }
   ],
   "source": [
    "with open('Forrest B100B10 BAC sequence Rhg4.txt', 'r') as forrest_file:\n",
    "    forrest_lines = ''\n",
    "    file_line = forrest_file.readline().rstrip()\n",
    "    # forrest_lines += file_line\n",
    "\n",
    "    while file_line:\n",
    "        forrest_lines += file_line\n",
    "        file_line = forrest_file.readline().rstrip()\n",
    "\n",
    "forrest_lines[:300]\n"
   ]
  },
  {
   "cell_type": "markdown",
   "metadata": {},
   "source": [
    "#### The file containing the Forrest sequence I am working with starts with the FASTA format header. This header doesn't help much in downstreadm analysis, so I need to find index where actual sequence starts."
   ]
  },
  {
   "cell_type": "code",
   "execution_count": 13,
   "metadata": {},
   "outputs": [
    {
     "data": {
      "text/plain": [
       "46"
      ]
     },
     "execution_count": 13,
     "metadata": {},
     "output_type": "execute_result"
    }
   ],
   "source": [
    "forrest_lines.find('Rhg4')"
   ]
  },
  {
   "cell_type": "code",
   "execution_count": 14,
   "metadata": {},
   "outputs": [
    {
     "data": {
      "text/plain": [
       "'R'"
      ]
     },
     "execution_count": 14,
     "metadata": {},
     "output_type": "execute_result"
    }
   ],
   "source": [
    "forrest_lines[46]"
   ]
  },
  {
   "cell_type": "code",
   "execution_count": 35,
   "metadata": {},
   "outputs": [
    {
     "data": {
      "text/plain": [
       "'Rhg4'"
      ]
     },
     "execution_count": 35,
     "metadata": {},
     "output_type": "execute_result"
    }
   ],
   "source": [
    "forrest_lines[46:50]"
   ]
  },
  {
   "cell_type": "markdown",
   "metadata": {},
   "source": [
    "Since Python starts index at 0, Rhg4 (name of the region/locus) is indices 46-49. Actual Forrest sequence starts at index 50."
   ]
  },
  {
   "cell_type": "code",
   "execution_count": 36,
   "metadata": {},
   "outputs": [
    {
     "data": {
      "text/plain": [
       "'CCCTC'"
      ]
     },
     "execution_count": 36,
     "metadata": {},
     "output_type": "execute_result"
    }
   ],
   "source": [
    "forrest_lines[50:55]"
   ]
  },
  {
   "cell_type": "markdown",
   "metadata": {},
   "source": [
    "#### I am proceeding to searching for presence of genes in the ranges of alignment. I am starting with the ranges of alignment for the soybean cultivar Williams chromosomes 8 and 5, since when running Nucleotide BLAST, they gave the highest total score and E value. Using the Forrest Rhg4 sequence, I am adjusting the boundaries given by BLAST for the FASTA format header."
   ]
  },
  {
   "cell_type": "markdown",
   "metadata": {},
   "source": [
    "#### When I performed the alignment using Nucleotide BLAST, the first range of alignment was 1036 through 40810 in my input Forrest sequence. Adjusting for the way Python does indexing, this interval becomes 1036-40811 (we want Python to go through base 40810). Length of FASTA format header is 50."
   ]
  },
  {
   "cell_type": "code",
   "execution_count": 17,
   "metadata": {},
   "outputs": [
    {
     "data": {
      "text/plain": [
       "58"
      ]
     },
     "execution_count": 17,
     "metadata": {},
     "output_type": "execute_result"
    }
   ],
   "source": [
    "start_codon = 'ATG'\n",
    "sequence = forrest_lines[1036+50:40811]\n",
    "sequence.find(start_codon)\n"
   ]
  },
  {
   "cell_type": "code",
   "execution_count": 24,
   "metadata": {},
   "outputs": [
    {
     "name": "stdout",
     "output_type": "stream",
     "text": [
      "indices of stop codons in the 1037-40810 range of alignment: [16, 6, 59]\n"
     ]
    }
   ],
   "source": [
    "stop_codons = ['TAA', 'TAG', 'TGA']\n",
    "sequence = forrest_lines[1036+50:40811]\n",
    "\n",
    "stop_codon_indices = []\n",
    "for codon in stop_codons:\n",
    "    index = sequence.find(codon)\n",
    "    stop_codon_indices.append(index)\n",
    "\n",
    "print(f'indices of stop codons in the 1037-40810 range of alignment: {stop_codon_indices}')"
   ]
  },
  {
   "cell_type": "code",
   "execution_count": 25,
   "metadata": {},
   "outputs": [
    {
     "name": "stdout",
     "output_type": "stream",
     "text": [
      "stop indices reversed: [57, 98, 266]\n",
      "stop codon: CAA\n",
      "AAC\n"
     ]
    }
   ],
   "source": [
    "# trying to reverse the stop codons\n",
    "\n",
    "stop_codon_indices = []\n",
    "for codon in stop_codons:\n",
    "    index = sequence.find(codon[::-1])\n",
    "    stop_codon_indices.append(index)\n",
    "\n",
    "stop_codon = sequence[263:266][::-1]\n",
    "print(f'stop indices reversed: {stop_codon_indices}')\n",
    "print(f'stop codon: {stop_codon}')\n",
    "\n",
    "print(sequence[263:266])"
   ]
  },
  {
   "cell_type": "code",
   "execution_count": 26,
   "metadata": {},
   "outputs": [
    {
     "name": "stdout",
     "output_type": "stream",
     "text": [
      "number of possible start codons: 733\n",
      "first 10 indices of start codon: [58, 146, 211, 306, 381, 522, 689, 1011, 1074, 1090]\n"
     ]
    }
   ],
   "source": [
    "# loop over the sequence when looking for start codon\n",
    "\n",
    "start_codon = 'ATG'\n",
    "start_codon_indices = []\n",
    "sequence = forrest_lines[1036+50:40811]\n",
    "\n",
    "index = sequence.find(start_codon)\n",
    "while index >= 0:\n",
    "    start_codon_indices.append(index)\n",
    "    index = sequence.find(start_codon, index+len(start_codon))\n",
    "\n",
    "print(f'number of possible start codons: {len(start_codon_indices)}')\n",
    "print(f'first 10 indices of start codon: {start_codon_indices[:10]}')\n"
   ]
  },
  {
   "cell_type": "code",
   "execution_count": 37,
   "metadata": {},
   "outputs": [
    {
     "name": "stdout",
     "output_type": "stream",
     "text": [
      "number of TATA boxes: 51\n",
      "first 10 indices of TATA boxes: [204, 376, 432, 1998, 2031, 3615, 3944, 4539, 5088, 5185]\n"
     ]
    }
   ],
   "source": [
    "# finding TATA boxes\n",
    "tata_box = 'TATAAA'\n",
    "sequence = forrest_lines[1036+50:40811]\n",
    "tata_indices = []\n",
    "\n",
    "index = sequence.find(tata_box)\n",
    "while index >= 0:\n",
    "    tata_indices.append(index)\n",
    "    index = sequence.find(tata_box, index + len(tata_box))\n",
    "\n",
    "print(f'number of TATA boxes: {len(tata_indices)}')\n",
    "print(f'first 10 indices of TATA boxes: {tata_indices[:10]}')"
   ]
  },
  {
   "cell_type": "markdown",
   "metadata": {},
   "source": [
    "Since TATA boxes are 25-35 base pairs upstream of the transcription start site in most eukaryotic genes, we can rule out codons at indices 58, 146, 211 as start codons and presence of genes. Starting gene search from index 1419 (start of sequence + index of TATA box + length of the TATA box + 25 bp downstream of the TATA box)"
   ]
  },
  {
   "cell_type": "code",
   "execution_count": 38,
   "metadata": {},
   "outputs": [
    {
     "name": "stdout",
     "output_type": "stream",
     "text": [
      "number of possible start codons: 729\n"
     ]
    }
   ],
   "source": [
    "# start codons starting from 25 bp downstream of the TATA box\n",
    "codon = 'ATG'\n",
    "sequence = forrest_lines[1419:40811]\n",
    "\n",
    "poss_start_codons = []\n",
    "index = sequence.find(codon)\n",
    "while index >= 0:\n",
    "    poss_start_codons.append(index)\n",
    "    index = sequence.find(codon, index + len(codon))\n",
    "\n",
    "print(f'number of possible start codons: {len(poss_start_codons)}')"
   ]
  },
  {
   "cell_type": "code",
   "execution_count": 39,
   "metadata": {},
   "outputs": [
    {
     "name": "stdout",
     "output_type": "stream",
     "text": [
      "number of possible stop codons: 2528\n"
     ]
    }
   ],
   "source": [
    "# stop codons starting from 35 bp downstream of the TATA box (TATA box 25-35 bp upstream of the gene)\n",
    "stop_codons = ['TAA', 'TAG', 'TGA']\n",
    "sequence = forrest_lines[1419+10:40811]\n",
    "\n",
    "poss_stop_codons = []\n",
    "for codon in stop_codons:\n",
    "    index = sequence.find(codon)\n",
    "    while index >= 0:\n",
    "        poss_stop_codons.append(index)\n",
    "        index = sequence.find(codon, index + len(codon))\n",
    "\n",
    "print(f'number of possible stop codons: {len(poss_stop_codons)}')"
   ]
  },
  {
   "cell_type": "markdown",
   "metadata": {},
   "source": [
    "We got possibile start and stop codons. Let's calculate the difference between indices for each pair to get a sense of presence of genes."
   ]
  },
  {
   "cell_type": "code",
   "execution_count": 30,
   "metadata": {},
   "outputs": [
    {
     "name": "stdout",
     "output_type": "stream",
     "text": [
      "possible start codons[:10]: [48, 189, 356, 678, 741, 757, 834, 885, 933, 1014]\n",
      "possible stop codons[:10]: [10, 27, 35, 65, 91, 102, 171, 177, 262, 423]\n"
     ]
    }
   ],
   "source": [
    "print(f'possible start codons[:10]: {poss_start_codons[:10]}')\n",
    "print(f'possible stop codons[:10]: {poss_stop_codons[:10]}')"
   ]
  },
  {
   "cell_type": "code",
   "execution_count": 31,
   "metadata": {},
   "outputs": [
    {
     "name": "stdout",
     "output_type": "stream",
     "text": [
      "number of possible genes: 899469\n"
     ]
    }
   ],
   "source": [
    "# iterating through the list of possible start codons\n",
    "poss_genes = []\n",
    "for start in poss_start_codons:\n",
    "    for stop in poss_stop_codons:\n",
    "        if stop > start:\n",
    "            length = stop - start\n",
    "            # print(f'stop codon - start codon: {length}')\n",
    "            poss_genes.append(length)\n",
    "\n",
    "# expecting to have 729 possible genes (same as number of possible start codons), but check\n",
    "print(f'number of possible genes: {len(poss_genes)}')"
   ]
  },
  {
   "cell_type": "markdown",
   "metadata": {},
   "source": [
    "The number of possible I got is greater than expected (there shouldn't be more genes than start codons). "
   ]
  },
  {
   "cell_type": "markdown",
   "metadata": {},
   "source": [
    "### Changing how I'm searching for gene presence. Using dictionary instead."
   ]
  },
  {
   "cell_type": "code",
   "execution_count": 32,
   "metadata": {},
   "outputs": [
    {
     "name": "stdout",
     "output_type": "stream",
     "text": [
      "possible start codons: [48, 189, 356, 678, 741, 757, 834, 885, 933, 1014, 1017, 1164, 1200, 1245, 1278, 1320, 1328, 1386, 1399, 1403, 1407, 1476, 1484, 1494, 1840, 1908, 1975, 2017, 2059, 2071, 2145, 2167, 2216, 2230, 2240, 2249, 2414, 2485, 2508, 2629, 2636, 2649, 2798, 2838, 2870, 2924, 2959, 2982, 2991, 3004, 3148, 3156, 3252, 3349, 3409, 3437, 3445, 3578, 3607, 3616, 3621, 3682, 3761, 3768, 3834, 3845, 3877, 3887, 4133, 4167, 4246, 4302, 4306, 4317, 4331, 4383, 4402, 4406, 4460, 4466, 4472, 4593, 4597, 4603, 4608, 4703, 4737, 4814, 4963, 5119, 5136, 5145, 5160, 5182, 5200, 5208, 5224, 5282, 5294, 5382, 5500, 5544, 5628, 5704, 5747, 5775, 5779, 5808, 5850, 5970, 5996, 5999, 6381, 6532, 6579, 6602, 6606, 6628, 6698, 6711, 6827, 6834, 6839, 6858, 6902, 7003, 7028, 7059, 7064, 7114, 7127, 7145, 7257, 7279, 7286, 7313, 7391, 7447, 7478, 7482, 7529, 7583, 7628, 7646, 7696, 7707, 7719, 7758, 7769, 7774, 7790, 7878, 7897, 7914, 7924, 8036, 8056, 8144, 8349, 8389, 8434, 8437, 8499, 8506, 8511, 8674, 8779, 8791, 8860, 9143, 9221, 9256, 9319, 9329, 9356, 9362, 9388, 9431, 9464, 9487, 9519, 9630, 9638, 9759, 9776, 9938, 10035, 10059, 10067, 10080, 10085, 10119, 10125, 10151, 10217, 10248, 10304, 10316, 10325, 10335, 10368, 10379, 10441, 10496, 10507, 10535, 10641, 10778, 10986, 11029, 11238, 11327, 11372, 11698, 11705, 11724, 11826, 11930, 11969, 12011, 12093, 12111, 12181, 12207, 12266, 12367, 12439, 12592, 12627, 12673, 12722, 12766, 12787, 12908, 12945, 12949, 13029, 13062, 13124, 13160, 13414, 13627, 13635, 13638, 13646, 13659, 13675, 13680, 13763, 13766, 13782, 13798, 13836, 13863, 13873, 13876, 13909, 13953, 14123, 14192, 14212, 14224, 14230, 14347, 14468, 14501, 14508, 14547, 14564, 14616, 14619, 14645, 14741, 14781, 14829, 14876, 14955, 15064, 15207, 15491, 15497, 15521, 15557, 15634, 15685, 15715, 15751, 15813, 15924, 15929, 15951, 15988, 16072, 16111, 16140, 16168, 16211, 16302, 16313, 16319, 16407, 16430, 16487, 16514, 16621, 16652, 16675, 16707, 16750, 16793, 16821, 16880, 16902, 17088, 17119, 17323, 17417, 17435, 17491, 17538, 17568, 17588, 17684, 17714, 17755, 17790, 17798, 17825, 17834, 17906, 17956, 18026, 18037, 18043, 18106, 18120, 18201, 18251, 18262, 18377, 18393, 18400, 18407, 18417, 18628, 18757, 18769, 18896, 19037, 19135, 19146, 19216, 19243, 19268, 19298, 19356, 19389, 19559, 19604, 19632, 19641, 19658, 19690, 19831, 19972, 19993, 20002, 20110, 20158, 20173, 20372, 20443, 20457, 20480, 20603, 20677, 20714, 20720, 20744, 20762, 20813, 20878, 20891, 20903, 21091, 21111, 21149, 21315, 21319, 21339, 21350, 21420, 21514, 21572, 21628, 21638, 21712, 21730, 21810, 21818, 21852, 21861, 21874, 21937, 22157, 22178, 22196, 22249, 22341, 22397, 22538, 22548, 22593, 22638, 22654, 22664, 22678, 22800, 22869, 22965, 22975, 23066, 23143, 23226, 23273, 23395, 23502, 23579, 23684, 23757, 23815, 23923, 24018, 24104, 24203, 24250, 24350, 24357, 24377, 24489, 24565, 24583, 24629, 24645, 24779, 24847, 24901, 25017, 25215, 25246, 25332, 25344, 25439, 25446, 25505, 25509, 25585, 25691, 25717, 25741, 25879, 25957, 26167, 26172, 26285, 26305, 26402, 26414, 26489, 26527, 26538, 26587, 26594, 26629, 26747, 26809, 26862, 26878, 26956, 27168, 27175, 27230, 27254, 27271, 27609, 27617, 27662, 27712, 27798, 27822, 27833, 27841, 27887, 28105, 28354, 28363, 28388, 28449, 28467, 28484, 28490, 28495, 28499, 28532, 28571, 28598, 28628, 28654, 28658, 28676, 28681, 28706, 28790, 28816, 28837, 28855, 28860, 28881, 28896, 28905, 28908, 28921, 28933, 29019, 29043, 29068, 29252, 29262, 29292, 29323, 29368, 29384, 29422, 29468, 29603, 29634, 29641, 29674, 29762, 29803, 29830, 29845, 29946, 29962, 30004, 30035, 30068, 30136, 30173, 30214, 30273, 30311, 30340, 30366, 30461, 30518, 30561, 30582, 30622, 30743, 30775, 30799, 30884, 30974, 31032, 31129, 31163, 31296, 31348, 31361, 31542, 31616, 31623, 31645, 31656, 31957, 31973, 32000, 32037, 32096, 32131, 32148, 32252, 32269, 32333, 32363, 32434, 32437, 32492, 32510, 32563, 32603, 32626, 32660, 32731, 32758, 32879, 32910, 32941, 33009, 33033, 33113, 33126, 33140, 33158, 33187, 33227, 33274, 33348, 33433, 33445, 33469, 33577, 33620, 33676, 33729, 33735, 33756, 33775, 33790, 33815, 33819, 33846, 34153, 34214, 34433, 34524, 34540, 34588, 34620, 34633, 34668, 35120, 35142, 35197, 35320, 35335, 35353, 35371, 35449, 35458, 35488, 35524, 35553, 35586, 35629, 35659, 35664, 35759, 35857, 35954, 35963, 35992, 36111, 36189, 36214, 36430, 36564, 36610, 36720, 36728, 36731, 36746, 36966, 36989, 36995, 37118, 37133, 37156, 37316, 37342, 37361, 37373, 37376, 37385, 37394, 37400, 37462, 37501, 37569, 37579, 37616, 37625, 37652, 37699, 37726, 37781, 37827, 37920, 37945, 37961, 37977, 37991, 37996, 38007, 38013, 38027, 38098, 38110, 38117, 38128, 38166, 38243, 38256, 38426, 38459, 38616, 38668, 38741, 38780, 38801, 38828, 38854, 38860, 38867, 38970, 39027, 39065, 39074, 39080, 39087, 39120, 39205, 39244, 39301, 39339, 39348, 39354, 39361]\n"
     ]
    }
   ],
   "source": [
    "print(f'possible start codons: {poss_start_codons}')"
   ]
  },
  {
   "cell_type": "code",
   "execution_count": 61,
   "metadata": {},
   "outputs": [
    {
     "name": "stdout",
     "output_type": "stream",
     "text": [
      "number of possible genes: 38216\n",
      "first 5 possible genes: [(17, (39301, 39318)), (43, (39244, 39287)), (54, (39301, 39355)), (123, (37961, 38084)), (129, (36995, 37124))]\n"
     ]
    }
   ],
   "source": [
    "poss_genes_dict = {}\n",
    "for start in poss_start_codons:\n",
    "    for stop in poss_stop_codons:\n",
    "        if stop > start:\n",
    "            poss_gene_len = stop - start\n",
    "            poss_genes_dict[poss_gene_len] = (start, stop)\n",
    "\n",
    "print(f'number of possible genes: {len(poss_genes_dict)}')\n",
    "# print([poss_genes_dict[k] for k in list(poss_genes_dict.keys())[:5]])\n",
    "print(f'first 5 possible genes: {list(poss_genes_dict.items())[:5]}')"
   ]
  },
  {
   "cell_type": "code",
   "execution_count": 35,
   "metadata": {},
   "outputs": [
    {
     "name": "stdout",
     "output_type": "stream",
     "text": [
      "possible genes: 686\n"
     ]
    }
   ],
   "source": [
    "# different approach: use while loop or change for loop\n",
    "\n",
    "poss_genes_dict = {}\n",
    "i_start = 0\n",
    "i_stop = 0\n",
    "while i_start < len(poss_start_codons):\n",
    "    if i_stop >= i_start:\n",
    "        length = poss_stop_codons[i_stop] - poss_start_codons[i_start]\n",
    "        poss_genes_dict[length] = (poss_start_codons[i_start], poss_stop_codons[i_stop])\n",
    "        i_start += 1\n",
    "        i_stop += 1\n",
    "    else:\n",
    "        i_stop += 1\n",
    "\n",
    "print(f'possible genes: {len(poss_genes_dict)}')"
   ]
  },
  {
   "cell_type": "markdown",
   "metadata": {},
   "source": [
    "### We have a reasonable number of possible genes in this region of the Forrest sequence. It is likely that the other 30 possible start codons are located such that their indices are bigger than the indices of the corresponding possible stop codons. Putting this into a function."
   ]
  },
  {
   "cell_type": "code",
   "execution_count": 36,
   "metadata": {},
   "outputs": [
    {
     "data": {
      "text/plain": [
       "{}"
      ]
     },
     "execution_count": 36,
     "metadata": {},
     "output_type": "execute_result"
    }
   ],
   "source": [
    "def get_possible_genes(poss_start_codons, poss_stop_codons):\n",
    "    \"\"\"Function takes list of possible start codons and list of possible stop codons.\n",
    "    It returns dictionary with the number of possible genes, where keys are the length of each possible gene\n",
    "    and values are the start, stop indices where the gene is.\"\"\"\n",
    "    poss_genes_dict = {}\n",
    "    i_start = 0\n",
    "    i_stop = 0\n",
    "    while i_start < len(poss_start_codons):\n",
    "        if i_stop > i_start:\n",
    "            length = poss_stop_codons[i_stop] - poss_start_codons[i_start]\n",
    "            poss_genes_dict[length] = (poss_start_codons[i_start], poss_stop_codons[i_stop])\n",
    "            i_start += 1\n",
    "            i_stop += 1\n",
    "        else:\n",
    "            i_stop += 1\n",
    "\n",
    "        return poss_genes_dict\n",
    "\n",
    "get_possible_genes (poss_start_codons, poss_stop_codons)"
   ]
  },
  {
   "cell_type": "markdown",
   "metadata": {},
   "source": [
    "Troubleshooting code for finding possible genes"
   ]
  },
  {
   "cell_type": "code",
   "execution_count": 37,
   "metadata": {},
   "outputs": [
    {
     "data": {
      "text/plain": [
       "'> [Glycine max] Forrest B100B10 BAC sequence, Rhg4CCCTCGCGAGTTGGTTCAGCTGCTGCCTGAGGCTGGACGACCTCGCGGAGTTCTACCGGCAGTGCAAATCCGTCGGCATCCAGGAAACCAGCAGCGGCTATCCGCGCATCCATGCCCCCGAACTGCAGGAGTGGGGAGGCACGATGGCCGCTTTGGTCGACCTGCAGGGGGGGGGGGCGCTGAGGTCTGCCTCGTGAAGAAGGTGTTGCTGACTCATACCAGGCCTGAATCGCCCCATCATCCAGCCAGA'"
      ]
     },
     "execution_count": 37,
     "metadata": {},
     "output_type": "execute_result"
    }
   ],
   "source": [
    "with open('Forrest B100B10 BAC sequence Rhg4.txt', 'r') as forrest_file:\n",
    "    forrest_seq = ''\n",
    "    file_line = forrest_file.readline().rstrip()\n",
    "    # forrest_lines += file_line\n",
    "\n",
    "    while file_line:\n",
    "        forrest_seq += file_line\n",
    "        file_line = forrest_file.readline().rstrip()\n",
    "\n",
    "forrest_seq[:300]"
   ]
  },
  {
   "cell_type": "code",
   "execution_count": 38,
   "metadata": {},
   "outputs": [
    {
     "name": "stdout",
     "output_type": "stream",
     "text": [
      "number of possible start codons: 729\n"
     ]
    }
   ],
   "source": [
    "def get_codon_indices(codon, sequence, start_point):\n",
    "    poss_indices = []\n",
    "    index = sequence.find(codon, start_point)\n",
    "    while index >= 0:\n",
    "        poss_indices.append(index)\n",
    "        index = sequence.find(codon, index+len(codon))\n",
    "    \n",
    "    return poss_indices\n",
    "\n",
    "start_codon = 'ATG'\n",
    "sequence = forrest_lines[:40811]\n",
    "start_point = 1419\n",
    "poss_start_codon_ind = get_codon_indices(start_codon, sequence, start_point)\n",
    "print(f'number of possible start codons: {len(poss_start_codon_ind)}')\n"
   ]
  },
  {
   "cell_type": "code",
   "execution_count": 39,
   "metadata": {},
   "outputs": [
    {
     "name": "stdout",
     "output_type": "stream",
     "text": [
      "number of possible stop codons: 833\n"
     ]
    }
   ],
   "source": [
    "stop_codons = ['TAA', 'TAG', 'TGA']\n",
    "start_point = 1419\n",
    "\n",
    "poss_stop_codon_ind = []\n",
    "for codon in stop_codons:\n",
    "    poss_stop_codon_ind = get_codon_indices(codon, sequence, start_point)\n",
    "\n",
    "print(f'number of possible stop codons: {len(poss_stop_codon_ind)}')\n"
   ]
  },
  {
   "cell_type": "code",
   "execution_count": 40,
   "metadata": {},
   "outputs": [
    {
     "name": "stdout",
     "output_type": "stream",
     "text": [
      "indices of first 5 possible start codons: [1467, 1608, 1775, 2097, 2160]\n",
      "indices of first 5 possible stop codons: [1468, 1486, 1795, 2079, 2203]\n"
     ]
    }
   ],
   "source": [
    "print(f'indices of first 5 possible start codons: {poss_start_codon_ind[:5]}')\n",
    "print(f'indices of first 5 possible stop codons: {poss_stop_codon_ind[:5]}')"
   ]
  },
  {
   "cell_type": "code",
   "execution_count": 42,
   "metadata": {},
   "outputs": [
    {
     "name": "stdout",
     "output_type": "stream",
     "text": [
      "number of possible start codons: 729\n",
      "if branch: poss_start_codons[i_start]:1467, poss_stop_codons[i_stop]:1468\n",
      "length: 1\n",
      "number of possible genes: 1\n",
      "possible genes: {(1467, 1468): 1}\n"
     ]
    }
   ],
   "source": [
    "# let's run the get_possible_genes function again\n",
    "\n",
    "def get_possible_genes(poss_start_codons, poss_stop_codons):\n",
    "    \"\"\"Function takes list of possible start codons and list of possible stop codons.\n",
    "    It returns dictionary with the number of possible genes, where keys are the length of each possible gene\n",
    "    and values are the start, stop indices where the gene is.\"\"\"\n",
    "    print(f'number of possible start codons: {len(poss_start_codons)}')\n",
    "    poss_genes_dict = {}\n",
    "    # i_start = 0\n",
    "    i_stop = 0\n",
    "    for i_start in range(len(poss_start_codons)):\n",
    "        if poss_stop_codons[i_stop] > poss_start_codons[i_start]:\n",
    "            print(f'if branch: poss_start_codons[i_start]:{poss_start_codons[i_start]}, poss_stop_codons[i_stop]:{poss_stop_codons[i_stop]}')\n",
    "            length = poss_stop_codons[i_stop] - poss_start_codons[i_start]\n",
    "            print(f'length: {length}')\n",
    "            poss_genes_dict[(poss_start_codons[i_start], poss_stop_codons[i_stop])] = length\n",
    "            i_start += 1\n",
    "            i_stop += 1\n",
    "        else:\n",
    "            print(f'else branch: poss_start_codons[i_start]:{poss_start_codons[i_start]}, poss_stop_codons[i_stop]:{poss_stop_codons[i_stop]}')\n",
    "            i_stop += 1\n",
    "\n",
    "        return poss_genes_dict\n",
    "\n",
    "poss_genes = get_possible_genes(poss_start_codon_ind, poss_stop_codon_ind)\n",
    "print(f'number of possible genes: {len(poss_genes)}')\n",
    "print(f'possible genes: {poss_genes}')"
   ]
  },
  {
   "cell_type": "markdown",
   "metadata": {},
   "source": [
    "### Changing to finding indices possible stop codons using each stop codon separately"
   ]
  },
  {
   "cell_type": "code",
   "execution_count": 8,
   "metadata": {},
   "outputs": [
    {
     "name": "stdout",
     "output_type": "stream",
     "text": [
      "number of possible start codons: 729\n"
     ]
    }
   ],
   "source": [
    "def find_possible_codons(codon, sequence):\n",
    "    poss_codons = []\n",
    "    index = sequence.find(codon)\n",
    "    while index >= 0:\n",
    "        poss_codons.append(index)\n",
    "        index = sequence.find(codon, index + len(codon))\n",
    "    return poss_codons\n",
    "\n",
    "start_codon = 'ATG'\n",
    "sequence = forrest_lines[1419:40811]\n",
    "poss_start_codons = find_possible_codons(start_codon, sequence)\n",
    "print(f'number of possible start codons: {len(poss_start_codons)}')"
   ]
  },
  {
   "cell_type": "code",
   "execution_count": 6,
   "metadata": {},
   "outputs": [
    {
     "name": "stdout",
     "output_type": "stream",
     "text": [
      "number of possible start codons: 729\n"
     ]
    }
   ],
   "source": [
    "def find_possible_codon_indices(codon, sequence):\n",
    "    poss_codon_ind = []\n",
    "    index = sequence.find(codon)\n",
    "    while index >= 0:\n",
    "        poss_codon_ind.append(index)\n",
    "        index = sequence.find(codon, index + len(codon))\n",
    "    return poss_codon_ind\n",
    "\n",
    "start_codon = 'ATG'\n",
    "start_point = 1419\n",
    "end_point = 40811\n",
    "sequence = forrest_lines[start_point:end_point]\n",
    "poss_start_codon_ind = find_possible_codon_indices(start_codon, sequence)\n",
    "print(f'number of possible start codons: {len(poss_start_codon_ind)}')"
   ]
  },
  {
   "cell_type": "markdown",
   "metadata": {},
   "source": [
    "#### When looking for indices of possible stop codons, I chose to not take mismatches like TAA to GAA into account. In addition to T (Thymine) being a because biologically speaking a lot would have to go wrong during DNA replication for such a mutation to occur. T (thymine) is a pyrimidine while G (guanine) is a purine. If in the parent DNA has T on one strand, it would have A (adenine, purine like G) on the other strand. If DNA Polymerase tried pairing G with A, this would distort the newly forming DNA molecule. Also, the structure of DNA Polymerase III is such that one of its domains (parts) corrects mistakes made during replication (like pairing C (cytosine) with A instead of T with A)."
   ]
  },
  {
   "cell_type": "markdown",
   "metadata": {},
   "source": [
    "#### One of the problems with the running of get_possible_genes function resulted from putting indices for all three stop codons into one single output list. Changing to using one output list for each of the three stop codons."
   ]
  },
  {
   "cell_type": "code",
   "execution_count": 7,
   "metadata": {},
   "outputs": [
    {
     "name": "stdout",
     "output_type": "stream",
     "text": [
      "number of possible TAA stop codons: 1163\n",
      "number of possible TAG stop codons: 533\n",
      "number of possible TGA stop codons: 833\n"
     ]
    }
   ],
   "source": [
    "stop_codon = 'TAA'\n",
    "poss_taa_stop_codons = find_possible_codons(stop_codon, sequence)\n",
    "print(f'number of possible {stop_codon} stop codons: {len(poss_taa_stop_codons)}')\n",
    "stop_codon = 'TAG'\n",
    "poss_tag_stop_codons = find_possible_codons(stop_codon, sequence)\n",
    "print(f'number of possible {stop_codon} stop codons: {len(poss_tag_stop_codons)}')\n",
    "stop_codon = 'TGA'\n",
    "poss_tga_stop_codons = find_possible_codons(stop_codon, sequence)\n",
    "print(f'number of possible {stop_codon} stop codons: {len(poss_tga_stop_codons)}')"
   ]
  },
  {
   "cell_type": "markdown",
   "metadata": {},
   "source": [
    "I have the number of possible stop codon indices for each of the three stop codons. Back to finding possible genes."
   ]
  },
  {
   "cell_type": "code",
   "execution_count": 9,
   "metadata": {},
   "outputs": [
    {
     "name": "stdout",
     "output_type": "stream",
     "text": [
      "number of possible genes with TAA stop codons: 25\n"
     ]
    }
   ],
   "source": [
    "def find_poss_genes(poss_start_codons, poss_stop_codons):\n",
    "    # print(f'first 5 possible start codons: {poss_start_codons[:5]}, first 5 possible stop codons: {poss_stop_codons[:5]}')\n",
    "    poss_genes = {}\n",
    "    i_start = 0\n",
    "    i_stop = 0\n",
    "\n",
    "    while i_start < len(poss_start_codons) and i_stop < len(poss_stop_codons):\n",
    "        if poss_stop_codons[i_stop] > poss_start_codons[i_start]:\n",
    "            gene_length = poss_stop_codons[i_stop] - poss_start_codons[i_start]\n",
    "            # prokaryotes have a typical gene length of 1000 base pairs and each codon is encoded by 3 bases\n",
    "            if gene_length >= 1000:\n",
    "                poss_genes[(poss_stop_codons[i_stop], poss_start_codons[i_start])] = gene_length\n",
    "            i_start += 1\n",
    "            i_stop += 1\n",
    "            continue\n",
    "        else:\n",
    "            i_stop += 1\n",
    "    \n",
    "    return poss_genes\n",
    "\n",
    "taa_genes = find_poss_genes(poss_start_codons, poss_taa_stop_codons)\n",
    "print(f'number of possible genes with TAA stop codons: {len(taa_genes)}')"
   ]
  },
  {
   "cell_type": "code",
   "execution_count": 51,
   "metadata": {},
   "outputs": [
    {
     "name": "stdout",
     "output_type": "stream",
     "text": [
      "number of possible genes with TAG stop codons: 477\n",
      "number of possible genes with TGA stop codons: 0\n"
     ]
    }
   ],
   "source": [
    "tag_genes = find_poss_genes(poss_start_codons, poss_tag_stop_codons)\n",
    "print(f'number of possible genes with TAG stop codons: {len(tag_genes)}')\n",
    "\n",
    "tga_genes = find_poss_genes(poss_start_codons, poss_tga_stop_codons)\n",
    "print(f'number of possible genes with TGA stop codons: {len(tga_genes)}')"
   ]
  },
  {
   "cell_type": "markdown",
   "metadata": {},
   "source": [
    "I have a working algorithm, but the way everything is written I need to run it for each range of alignment. It would be nice to have a way for the algorithm to run through the Forrest sequence without me having to manually move it from one range of alignment to another."
   ]
  },
  {
   "cell_type": "markdown",
   "metadata": {},
   "source": [
    "#### Plotting frequency of genes in the 1037-40810 range of alignment for TAA and TAG stop codons (this range of alignment did not have any possible genes that started at or after base pair 1419 for TGA stop codon)"
   ]
  },
  {
   "cell_type": "code",
   "execution_count": 10,
   "metadata": {},
   "outputs": [
    {
     "name": "stdout",
     "output_type": "stream",
     "text": [
      "possible genes with TAA as the stop codon: {(31055, 30035): 1020, (31091, 30068): 1023, (38158, 37156): 1002, (38464, 37376): 1088, (38582, 37385): 1197, (38605, 37394): 1211, (38611, 37400): 1211, (38761, 37462): 1299, (38798, 37501): 1297, (38924, 37569): 1355, (38938, 37579): 1359, (38955, 37616): 1339, (38962, 37625): 1337, (38982, 37652): 1330, (38994, 37699): 1295, (39083, 37726): 1357, (39127, 37781): 1346, (39173, 37827): 1346, (39185, 37920): 1265, (39212, 37945): 1267, (39229, 37961): 1268, (39236, 37977): 1259, (39256, 37991): 1265, (39268, 37996): 1272, (39357, 38007): 1350}\n",
      "possible genes with TAG as the stop codon: {(4104, 2991): 1113, (4113, 3004): 1109, (4212, 3156): 1056, (4295, 3252): 1043, (4548, 3349): 1199, (4674, 3409): 1265, (4875, 3437): 1438, (4898, 3445): 1453, (4934, 3578): 1356, (5044, 3607): 1437, (5048, 3616): 1432, (5070, 3621): 1449, (5187, 3682): 1505, (5326, 3761): 1565, (5400, 3768): 1632, (5412, 3834): 1578, (5467, 3845): 1622, (5884, 3877): 2007, (5942, 3887): 2055, (5949, 4133): 1816, (5956, 4167): 1789, (5977, 4246): 1731, (6017, 4302): 1715, (6020, 4306): 1714, (6100, 4317): 1783, (6130, 4331): 1799, (6290, 4383): 1907, (6351, 4402): 1949, (6362, 4406): 1956, (6476, 4460): 2016, (6553, 4466): 2087, (6614, 4472): 2142, (6632, 4593): 2039, (6751, 4597): 2154, (6771, 4603): 2168, (6811, 4608): 2203, (6958, 4703): 2255, (7017, 4737): 2280, (7085, 4814): 2271, (7137, 4963): 2174, (7186, 5119): 2067, (7253, 5136): 2117, (7550, 5145): 2405, (7558, 5160): 2398, (7604, 5182): 2422, (7612, 5200): 2412, (7734, 5208): 2526, (7785, 5224): 2561, (7836, 5282): 2554, (7868, 5294): 2574, (7875, 5382): 2493, (7894, 5500): 2394, (7901, 5544): 2357, (7907, 5628): 2279, (7918, 5704): 2214, (7961, 5747): 2214, (7967, 5775): 2192, (7998, 5779): 2219, (8087, 5808): 2279, (8265, 5850): 2415, (8420, 5970): 2450, (8443, 5996): 2447, (8557, 5999): 2558, (8597, 6381): 2216, (8645, 6532): 2113, (9410, 6579): 2831, (9434, 6602): 2832, (9559, 6606): 2953, (9597, 6628): 2969, (9623, 6698): 2925, (9703, 6711): 2992, (9879, 6827): 3052, (9929, 6834): 3095, (9945, 6839): 3106, (10696, 6858): 3838, (10871, 6902): 3969, (10891, 7003): 3888, (10902, 7028): 3874, (10920, 7059): 3861, (11127, 7064): 4063, (11319, 7114): 4205, (11581, 7127): 4454, (11845, 7145): 4700, (11913, 7257): 4656, (11924, 7279): 4645, (11955, 7286): 4669, (11984, 7313): 4671, (12024, 7391): 4633, (12088, 7447): 4641, (12107, 7478): 4629, (12129, 7482): 4647, (12312, 7529): 4783, (12319, 7583): 4736, (12372, 7628): 4744, (12400, 7646): 4754, (12428, 7696): 4732, (12574, 7707): 4867, (12582, 7719): 4863, (12770, 7758): 5012, (12807, 7769): 5038, (12840, 7774): 5066, (12869, 7790): 5079, (12932, 7878): 5054, (12964, 7897): 5067, (13005, 7914): 5091, (13145, 7924): 5221, (13297, 8036): 5261, (13386, 8056): 5330, (13517, 8144): 5373, (13725, 8349): 5376, (13737, 8389): 5348, (13859, 8434): 5425, (13870, 8437): 5433, (13902, 8499): 5403, (13984, 8506): 5478, (14004, 8511): 5493, (14053, 8674): 5379, (14205, 8779): 5426, (14298, 8791): 5507, (14308, 8860): 5448, (14421, 9143): 5278, (14430, 9221): 5209, (14476, 9256): 5220, (14516, 9319): 5197, (14540, 9329): 5211, (14575, 9356): 5219, (14599, 9362): 5237, (14754, 9388): 5366, (14766, 9431): 5335, (14851, 9464): 5387, (14858, 9487): 5371, (14867, 9519): 5348, (14932, 9630): 5302, (14962, 9638): 5324, (15108, 9759): 5349, (15163, 9776): 5387, (15179, 9938): 5241, (15281, 10035): 5246, (15314, 10059): 5255, (15391, 10067): 5324, (15398, 10080): 5318, (15467, 10085): 5382, (15485, 10119): 5366, (15709, 10125): 5584, (15732, 10151): 5581, (15764, 10217): 5547, (15797, 10248): 5549, (15804, 10304): 5500, (15809, 10316): 5493, (16000, 10325): 5675, (16006, 10335): 5671, (16084, 10368): 5716, (16104, 10379): 5725, (16134, 10441): 5693, (16306, 10496): 5810, (16346, 10507): 5839, (16351, 10535): 5816, (16360, 10641): 5719, (16415, 10778): 5637, (16524, 10986): 5538, (16615, 11029): 5586, (16631, 11238): 5393, (16788, 11327): 5461, (16983, 11372): 5611, (17010, 11698): 5312, (17024, 11705): 5319, (17028, 11724): 5304, (17146, 11826): 5320, (17153, 11930): 5223, (17211, 11969): 5242, (17274, 12011): 5263, (17277, 12093): 5184, (17378, 12111): 5267, (17394, 12181): 5213, (17479, 12207): 5272, (17585, 12266): 5319, (17640, 12367): 5273, (17742, 12439): 5303, (17765, 12592): 5173, (17819, 12627): 5192, (17973, 12673): 5300, (18129, 12722): 5407, (18180, 12766): 5414, (18266, 12787): 5479, (18346, 12908): 5438, (18354, 12945): 5409, (18434, 12949): 5485, (18561, 13029): 5532, (18564, 13062): 5502, (18584, 13124): 5460, (18603, 13160): 5443, (18645, 13414): 5231, (18784, 13627): 5157, (18813, 13635): 5178, (18915, 13638): 5277, (18976, 13646): 5330, (18988, 13659): 5329, (18993, 13675): 5318, (19029, 13680): 5349, (19044, 13763): 5281, (19088, 13766): 5322, (19194, 13782): 5412, (19219, 13798): 5421, (19234, 13836): 5398, (19512, 13863): 5649, (19554, 13873): 5681, (19579, 13876): 5703, (19648, 13909): 5739, (19704, 13953): 5751, (19846, 14123): 5723, (19865, 14192): 5673, (20018, 14212): 5806, (20494, 14224): 6270, (20579, 14230): 6349, (20584, 14347): 6237, (20731, 14468): 6263, (20791, 14501): 6290, (20852, 14508): 6344, (21044, 14547): 6497, (21105, 14564): 6541, (21187, 14616): 6571, (21201, 14619): 6582, (21209, 14645): 6564, (21216, 14741): 6475, (21229, 14781): 6448, (21250, 14829): 6421, (21296, 14876): 6420, (21309, 14955): 6354, (21370, 15064): 6306, (21472, 15207): 6265, (21510, 15491): 6019, (21541, 15497): 6044, (21609, 15521): 6088, (21691, 15557): 6134, (21726, 15634): 6092, (21803, 15685): 6118, (21955, 15715): 6240, (21961, 15751): 6210, (21968, 15813): 6155, (22012, 15924): 6088, (22024, 15929): 6095, (22112, 15951): 6161, (22136, 15988): 6148, (22241, 16072): 6169, (22309, 16111): 6198, (22404, 16140): 6264, (22465, 16168): 6297, (22498, 16211): 6287, (22529, 16302): 6227, (22660, 16313): 6347, (22708, 16319): 6389, (22804, 16407): 6397, (22876, 16430): 6446, (22903, 16487): 6416, (22946, 16514): 6432, (22998, 16621): 6377, (23022, 16652): 6370, (23034, 16675): 6359, (23162, 16707): 6455, (23167, 16750): 6417, (23494, 16793): 6701, (23636, 16821): 6815, (23726, 16880): 6846, (23797, 16902): 6895, (23845, 17088): 6757, (23956, 17119): 6837, (24112, 17323): 6789, (24160, 17417): 6743, (24423, 17435): 6988, (24431, 17491): 6940, (24492, 17538): 6954, (24548, 17568): 6980, (24612, 17588): 7024, (24638, 17684): 6954, (24659, 17714): 6945, (24678, 17755): 6923, (24728, 17790): 6938, (24740, 17798): 6942, (24887, 17825): 7062, (25061, 17834): 7227, (25073, 17906): 7167, (25204, 17956): 7248, (25263, 18026): 7237, (25280, 18037): 7243, (25289, 18043): 7246, (25298, 18106): 7192, (25501, 18120): 7381, (25588, 18201): 7387, (25615, 18251): 7364, (25621, 18262): 7359, (25793, 18377): 7416, (25929, 18393): 7536, (26104, 18400): 7704, (26107, 18407): 7700, (26148, 18417): 7731, (26159, 18628): 7531, (26210, 18757): 7453, (26226, 18769): 7457, (26337, 18896): 7441, (26345, 19037): 7308, (26370, 19135): 7235, (26384, 19146): 7238, (26450, 19216): 7234, (26573, 19243): 7330, (26601, 19268): 7333, (26751, 19298): 7453, (26776, 19356): 7420, (26795, 19389): 7406, (26840, 19559): 7281, (26997, 19604): 7393, (27035, 19632): 7403, (27074, 19641): 7433, (27107, 19658): 7449, (27206, 19690): 7516, (27505, 19831): 7674, (27551, 19972): 7579, (27567, 19993): 7574, (27628, 20002): 7626, (27646, 20110): 7536, (27687, 20158): 7529, (27723, 20173): 7550, (27763, 20372): 7391, (27812, 20443): 7369, (27852, 20457): 7395, (27870, 20480): 7390, (27914, 20603): 7311, (27956, 20677): 7279, (27966, 20714): 7252, (28008, 20720): 7288, (28032, 20744): 7288, (28060, 20762): 7298, (28132, 20813): 7319, (28191, 20878): 7313, (28516, 20891): 7625, (28548, 20903): 7645, (28562, 21091): 7471, (28823, 21111): 7712, (28826, 21149): 7677, (28865, 21315): 7550, (29031, 21319): 7712, (29089, 21339): 7750, (29145, 21350): 7795, (29183, 21420): 7763, (29206, 21514): 7692, (29398, 21572): 7826, (29406, 21628): 7778, (29411, 21638): 7773, (29432, 21712): 7720, (29493, 21730): 7763, (29544, 21810): 7734, (29610, 21818): 7792, (29618, 21852): 7766, (29624, 21861): 7763, (29629, 21874): 7755, (29660, 21937): 7723, (29664, 22157): 7507, (29757, 22178): 7579, (29826, 22196): 7630, (29863, 22249): 7614, (29901, 22341): 7560, (29997, 22397): 7600, (30128, 22538): 7590, (30205, 22548): 7657, (30226, 22593): 7633, (30278, 22638): 7640, (30425, 22654): 7771, (30442, 22664): 7778, (30503, 22678): 7825, (30509, 22800): 7709, (30531, 22869): 7662, (30554, 22965): 7589, (30657, 22975): 7682, (30832, 23066): 7766, (30943, 23143): 7800, (31067, 23226): 7841, (31079, 23273): 7806, (31120, 23395): 7725, (31367, 23502): 7865, (31400, 23579): 7821, (31497, 23684): 7813, (31549, 23757): 7792, (31572, 23815): 7757, (31682, 23923): 7759, (31706, 24018): 7688, (31731, 24104): 7627, (31737, 24203): 7534, (31758, 24250): 7508, (31788, 24350): 7438, (31819, 24357): 7462, (31829, 24377): 7452, (31847, 24489): 7358, (31864, 24565): 7299, (31867, 24583): 7284, (32014, 24629): 7385, (32053, 24645): 7408, (32145, 24779): 7366, (32283, 24847): 7436, (32342, 24901): 7441, (32354, 25017): 7337, (32572, 25215): 7357, (32694, 25246): 7448, (32701, 25332): 7369, (32764, 25344): 7420, (32860, 25439): 7421, (32904, 25446): 7458, (32998, 25505): 7493, (33049, 25509): 7540, (33078, 25585): 7493, (33248, 25691): 7557, (33382, 25717): 7665, (33801, 25741): 8060, (33920, 25879): 8041, (33923, 25957): 7966, (33931, 26167): 7764, (33938, 26172): 7766, (33953, 26285): 7668, (34029, 26305): 7724, (34199, 26402): 7797, (34347, 26414): 7933, (34505, 26489): 8016, (34684, 26527): 8157, (34739, 26538): 8201, (34907, 26587): 8320, (35012, 26594): 8418, (35043, 26629): 8414, (35246, 26747): 8499, (35340, 26809): 8531, (35383, 26862): 8521, (35453, 26878): 8575, (35514, 26956): 8558, (35811, 27168): 8643, (35865, 27175): 8690, (35980, 27230): 8750, (36078, 27254): 8824, (36083, 27271): 8812, (36097, 27609): 8488, (36135, 27617): 8518, (36141, 27662): 8479, (36253, 27712): 8541, (36404, 27798): 8606, (36580, 27822): 8758, (36630, 27833): 8797, (36644, 27841): 8803, (36651, 27887): 8764, (36765, 28105): 8660, (36846, 28354): 8492, (36875, 28363): 8512, (37428, 28388): 9040, (37443, 28449): 8994, (37749, 28467): 9282, (37854, 28484): 9370, (37860, 28490): 9370, (37887, 28495): 9392, (38020, 28499): 9521, (38079, 28532): 9547, (38175, 28571): 9604, (38202, 28598): 9604, (38234, 28628): 9606, (38288, 28654): 9634, (38313, 28658): 9655, (38324, 28676): 9648, (38365, 28681): 9684, (38478, 28706): 9772, (38487, 28790): 9697, (38519, 28816): 9703, (38578, 28837): 9741, (38600, 28855): 9745, (38661, 28860): 9801, (38705, 28881): 9824, (38750, 28896): 9854, (38814, 28905): 9909, (38884, 28908): 9976, (38989, 28921): 10068, (39091, 28933): 10158, (39180, 29019): 10161, (39263, 29043): 10220, (39365, 29068): 10297}\n"
     ]
    }
   ],
   "source": [
    "import matplotlib.pyplot as plt\n",
    "\n",
    "taa_genes = find_poss_genes(poss_start_codons, poss_taa_stop_codons)\n",
    "print(f'possible genes with TAA as the stop codon: {taa_genes}')\n",
    "tag_genes = find_poss_genes(poss_start_codons, poss_tag_stop_codons)\n",
    "print(f'possible genes with TAG as the stop codon: {tag_genes}')"
   ]
  },
  {
   "cell_type": "code",
   "execution_count": 12,
   "metadata": {},
   "outputs": [
    {
     "name": "stdout",
     "output_type": "stream",
     "text": [
      "taa_gene_length: 25\n",
      "\n",
      "tag_gene_length: 477\n"
     ]
    }
   ],
   "source": [
    "taa_gene_length = []\n",
    "for index_pairs, length in taa_genes.items():\n",
    "    taa_gene_length.append(length)\n",
    "\n",
    "print(f'taa_gene_length: {len(taa_gene_length)}')\n",
    "print()\n",
    "\n",
    "tag_gene_length = []\n",
    "for index_pairs, length in tag_genes.items():\n",
    "    tag_gene_length.append(length)\n",
    "\n",
    "print(f'tag_gene_length: {len(tag_gene_length)}')"
   ]
  },
  {
   "cell_type": "code",
   "execution_count": 31,
   "metadata": {},
   "outputs": [
    {
     "data": {
      "text/plain": [
       "Text(0, 0.5, 'Count')"
      ]
     },
     "execution_count": 31,
     "metadata": {},
     "output_type": "execute_result"
    },
    {
     "data": {
      "image/png": "[encoded data removed]",
      "text/plain": [
       "<Figure size 432x288 with 1 Axes>"
      ]
     },
     "metadata": {
      "needs_background": "light"
     },
     "output_type": "display_data"
    }
   ],
   "source": [
    "x_taa = taa_gene_length\n",
    "taa_bins = 5\n",
    "plt.hist(x_taa, bins=taa_bins)\n",
    "plt.xlabel('Length of each gene with TAA as the stop codon')\n",
    "plt.ylabel('Count')\n"
   ]
  },
  {
   "cell_type": "markdown",
   "metadata": {},
   "source": [
    "We see that most possible genes are 1300-1350 bp long. This is about 10 times lower than the typical gene length in cultivated soybean genomes."
   ]
  },
  {
   "cell_type": "code",
   "execution_count": 30,
   "metadata": {},
   "outputs": [
    {
     "data": {
      "text/plain": [
       "Text(0, 0.5, 'Count')"
      ]
     },
     "execution_count": 30,
     "metadata": {},
     "output_type": "execute_result"
    },
    {
     "data": {
      "image/png": "[encoded data removed]",
      "text/plain": [
       "<Figure size 432x288 with 1 Axes>"
      ]
     },
     "metadata": {
      "needs_background": "light"
     },
     "output_type": "display_data"
    }
   ],
   "source": [
    "# repeating for TAG stop codon\n",
    "\n",
    "x_tag = tag_gene_length\n",
    "tag_bins = 40\n",
    "plt.hist(x_tag, bins=tag_bins)\n",
    "plt.xlabel('Genes with TAG as the stop codon')\n",
    "plt.ylabel('Count')"
   ]
  },
  {
   "cell_type": "markdown",
   "metadata": {},
   "source": [
    "With TAG as the stop codon, we see two peaks. One peak is around 5500 bp length, the other peak is around 7500 bp gene length. These are looking more like they could be actual genes (though further analysis needs to be done to confirm this), because their nucleotide length is closer to the typical gene length for cultivated soybean of 18,000."
   ]
  },
  {
   "cell_type": "code",
   "execution_count": 62,
   "metadata": {},
   "outputs": [
    {
     "data": {
      "text/plain": [
       "'/Users/sandra/work/Bioinformatics/Soybeans'"
      ]
     },
     "execution_count": 62,
     "metadata": {},
     "output_type": "execute_result"
    }
   ],
   "source": [
    "pwd"
   ]
  }
 ],
 "metadata": {
  "kernelspec": {
   "display_name": "base",
   "language": "python",
   "name": "python3"
  },
  "language_info": {
   "codemirror_mode": {
    "name": "ipython",
    "version": 3
   },
   "file_extension": ".py",
   "mimetype": "text/x-python",
   "name": "python",
   "nbconvert_exporter": "python",
   "pygments_lexer": "ipython3",
   "version": "3.9.12"
  }
 },
 "nbformat": 4,
 "nbformat_minor": 2
}
