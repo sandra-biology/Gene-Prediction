{
 "cells": [
  {
   "cell_type": "code",
   "execution_count": 5,
   "metadata": {},
   "outputs": [
    {
     "name": "stdout",
     "output_type": "stream",
     "text": [
      "/Users/sandra/work/Bioinformatics/Soybeans\n"
     ]
    }
   ],
   "source": [
    "cd /Users/sandra/work/Bioinformatics/Soybeans"
   ]
  },
  {
   "cell_type": "code",
   "execution_count": 10,
   "metadata": {},
   "outputs": [
    {
     "data": {
      "text/plain": [
       "'/Users/sandra/work/Bioinformatics/Soybeans'"
      ]
     },
     "execution_count": 10,
     "metadata": {},
     "output_type": "execute_result"
    }
   ],
   "source": [
    "pwd"
   ]
  },
  {
   "cell_type": "code",
   "execution_count": 11,
   "metadata": {},
   "outputs": [
    {
     "data": {
      "text/plain": [
       "'> [Glycine max] Forrest B100B10 BAC sequence, Rhg4 \\nCCCTCGCGAGTTGGTTCAGCTGCTGCCTGAGGCTGGACGACCTCGCGG'"
      ]
     },
     "execution_count": 11,
     "metadata": {},
     "output_type": "execute_result"
    }
   ],
   "source": [
    "with open('Forrest B100B10 BAC sequence Rhg4.txt', 'r') as forrest_file:\n",
    "    forrest_seq = forrest_file.read()\n",
    "\n",
    "forrest_seq[:100]"
   ]
  },
  {
   "cell_type": "code",
   "execution_count": 3,
   "metadata": {},
   "outputs": [
    {
     "data": {
      "text/plain": [
       "'> [Glycine max] Forrest B100B10 BAC sequence, Rhg4CCCTCGCGAGTTGGTTCAGCTGCTGCCTGAGGCTGGACGACCTCGCGGAGTTCTACCGGCAGTGCAAATCCGTCGGCATCCAGGAAACCAGCAGCGGCTATCCGCGCATCCATGCCCCCGAACTGCAGGAGTGGGGAGGCACGATGGCCGCTTTGGTCGACCTGCAGGGGGGGGGGGCGCTGAGGTCTGCCTCGTGAAGAAGGTGTTGCTGACTCATACCAGGCCTGAATCGCCCCATCATCCAGCCAGA'"
      ]
     },
     "execution_count": 3,
     "metadata": {},
     "output_type": "execute_result"
    }
   ],
   "source": [
    "with open('Forrest B100B10 BAC sequence Rhg4.txt', 'r') as forrest_file:\n",
    "    forrest_lines = ''\n",
    "    file_line = forrest_file.readline().rstrip()\n",
    "    # forrest_lines += file_line\n",
    "\n",
    "    while file_line:\n",
    "        forrest_lines += file_line\n",
    "        file_line = forrest_file.readline().rstrip()\n",
    "\n",
    "forrest_lines[:300]\n"
   ]
  },
  {
   "cell_type": "markdown",
   "metadata": {},
   "source": [
    "#### The file containing the Forrest sequence I am working with starts with the FASTA format header. This header doesn't help much in downstreadm analysis, so I need to find index where actual sequence starts."
   ]
  },
  {
   "cell_type": "code",
   "execution_count": 13,
   "metadata": {},
   "outputs": [
    {
     "data": {
      "text/plain": [
       "46"
      ]
     },
     "execution_count": 13,
     "metadata": {},
     "output_type": "execute_result"
    }
   ],
   "source": [
    "forrest_lines.find('Rhg4')"
   ]
  },
  {
   "cell_type": "code",
   "execution_count": 14,
   "metadata": {},
   "outputs": [
    {
     "data": {
      "text/plain": [
       "'R'"
      ]
     },
     "execution_count": 14,
     "metadata": {},
     "output_type": "execute_result"
    }
   ],
   "source": [
    "forrest_lines[46]"
   ]
  },
  {
   "cell_type": "code",
   "execution_count": 35,
   "metadata": {},
   "outputs": [
    {
     "data": {
      "text/plain": [
       "'Rhg4'"
      ]
     },
     "execution_count": 35,
     "metadata": {},
     "output_type": "execute_result"
    }
   ],
   "source": [
    "forrest_lines[46:50]"
   ]
  },
  {
   "cell_type": "markdown",
   "metadata": {},
   "source": [
    "Since Python starts index at 0, Rhg4 (name of the region/locus) is indices 46-49. Actual Forrest sequence starts at index 50."
   ]
  },
  {
   "cell_type": "code",
   "execution_count": 36,
   "metadata": {},
   "outputs": [
    {
     "data": {
      "text/plain": [
       "'CCCTC'"
      ]
     },
     "execution_count": 36,
     "metadata": {},
     "output_type": "execute_result"
    }
   ],
   "source": [
    "forrest_lines[50:55]"
   ]
  },
  {
   "cell_type": "markdown",
   "metadata": {},
   "source": [
    "#### I am proceeding to searching for presence of genes in the ranges of alignment. I am starting with the ranges of alignment for the soybean cultivar Williams chromosomes 8 and 5, since when running Nucleotide BLAST, they gave the highest total score and E value. Using the Forrest Rhg4 sequence, I am adjusting the boundaries given by BLAST for the FASTA format header."
   ]
  },
  {
   "cell_type": "markdown",
   "metadata": {},
   "source": [
    "#### When I performed the alignment using Nucleotide BLAST, the first range of alignment was 1036 through 40810 in my input Forrest sequence. Adjusting for the way Python does indexing, this interval becomes 1036-40811 (we want Python to go through base 40810). Length of FASTA format header is 50."
   ]
  },
  {
   "cell_type": "code",
   "execution_count": 17,
   "metadata": {},
   "outputs": [
    {
     "data": {
      "text/plain": [
       "58"
      ]
     },
     "execution_count": 17,
     "metadata": {},
     "output_type": "execute_result"
    }
   ],
   "source": [
    "start_codon = 'ATG'\n",
    "sequence = forrest_lines[1036+50:40811]\n",
    "sequence.find(start_codon)\n"
   ]
  },
  {
   "cell_type": "code",
   "execution_count": 24,
   "metadata": {},
   "outputs": [
    {
     "name": "stdout",
     "output_type": "stream",
     "text": [
      "indices of stop codons in the 1037-40810 range of alignment: [16, 6, 59]\n"
     ]
    }
   ],
   "source": [
    "stop_codons = ['TAA', 'TAG', 'TGA']\n",
    "sequence = forrest_lines[1036+50:40811]\n",
    "\n",
    "stop_codon_indices = []\n",
    "for codon in stop_codons:\n",
    "    index = sequence.find(codon)\n",
    "    stop_codon_indices.append(index)\n",
    "\n",
    "print(f'indices of stop codons in the 1037-40810 range of alignment: {stop_codon_indices}')"
   ]
  },
  {
   "cell_type": "code",
   "execution_count": 25,
   "metadata": {},
   "outputs": [
    {
     "name": "stdout",
     "output_type": "stream",
     "text": [
      "stop indices reversed: [57, 98, 266]\n",
      "stop codon: CAA\n",
      "AAC\n"
     ]
    }
   ],
   "source": [
    "# trying to reverse the stop codons\n",
    "\n",
    "stop_codon_indices = []\n",
    "for codon in stop_codons:\n",
    "    index = sequence.find(codon[::-1])\n",
    "    stop_codon_indices.append(index)\n",
    "\n",
    "stop_codon = sequence[263:266][::-1]\n",
    "print(f'stop indices reversed: {stop_codon_indices}')\n",
    "print(f'stop codon: {stop_codon}')\n",
    "\n",
    "print(sequence[263:266])"
   ]
  },
  {
   "cell_type": "code",
   "execution_count": 26,
   "metadata": {},
   "outputs": [
    {
     "name": "stdout",
     "output_type": "stream",
     "text": [
      "number of possible start codons: 733\n",
      "first 10 indices of start codon: [58, 146, 211, 306, 381, 522, 689, 1011, 1074, 1090]\n"
     ]
    }
   ],
   "source": [
    "# loop over the sequence when looking for start codon\n",
    "\n",
    "start_codon = 'ATG'\n",
    "start_codon_indices = []\n",
    "sequence = forrest_lines[1036+50:40811]\n",
    "\n",
    "index = sequence.find(start_codon)\n",
    "while index >= 0:\n",
    "    start_codon_indices.append(index)\n",
    "    index = sequence.find(start_codon, index+len(start_codon))\n",
    "\n",
    "print(f'number of possible start codons: {len(start_codon_indices)}')\n",
    "print(f'first 10 indices of start codon: {start_codon_indices[:10]}')\n"
   ]
  },
  {
   "cell_type": "code",
   "execution_count": 4,
   "metadata": {},
   "outputs": [
    {
     "name": "stdout",
     "output_type": "stream",
     "text": [
      "number of TATA boxes: 51\n",
      "first 10 indices of TATA boxes: [204, 376, 432, 1998, 2031, 3615, 3944, 4539, 5088, 5185]\n"
     ]
    }
   ],
   "source": [
    "# finding TATA boxes\n",
    "tata_box = 'TATAAA'\n",
    "sequence = forrest_lines[1036+50:40811]\n",
    "tata_indices = []\n",
    "\n",
    "index = sequence.find(tata_box)\n",
    "while index >= 0:\n",
    "    tata_indices.append(index)\n",
    "    index = sequence.find(tata_box, index + len(tata_box))\n",
    "\n",
    "print(f'number of TATA boxes: {len(tata_indices)}')\n",
    "print(f'first 10 indices of TATA boxes: {tata_indices[:10]}')"
   ]
  },
  {
   "cell_type": "markdown",
   "metadata": {},
   "source": [
    "Since TATA boxes are 25-35 base pairs upstream of the transcription start site in most eukaryotic genes, we can rule out codons at indices 58, 146, 211 as start codons and presence of genes. Starting gene search from index 1419 (start of sequence + index of TATA box + length of the TATA box + 25 bp downstream of the TATA box)"
   ]
  },
  {
   "cell_type": "code",
   "execution_count": 5,
   "metadata": {},
   "outputs": [
    {
     "name": "stdout",
     "output_type": "stream",
     "text": [
      "number of possible start codons: 729\n"
     ]
    }
   ],
   "source": [
    "# start codons starting from 25 bp downstream of the TATA box\n",
    "codon = 'ATG'\n",
    "sequence = forrest_lines[1419:40811]\n",
    "\n",
    "poss_start_codons = []\n",
    "index = sequence.find(codon)\n",
    "while index >= 0:\n",
    "    poss_start_codons.append(index)\n",
    "    index = sequence.find(codon, index + len(codon))\n",
    "\n",
    "print(f'number of possible start codons: {len(poss_start_codons)}')"
   ]
  },
  {
   "cell_type": "code",
   "execution_count": 39,
   "metadata": {},
   "outputs": [
    {
     "name": "stdout",
     "output_type": "stream",
     "text": [
      "number of possible stop codons: 2528\n"
     ]
    }
   ],
   "source": [
    "# stop codons starting from 35 bp downstream of the TATA box (TATA box 25-35 bp upstream of the gene)\n",
    "stop_codons = ['TAA', 'TAG', 'TGA']\n",
    "sequence = forrest_lines[1419+10:40811]\n",
    "\n",
    "poss_stop_codons = []\n",
    "for codon in stop_codons:\n",
    "    index = sequence.find(codon)\n",
    "    while index >= 0:\n",
    "        poss_stop_codons.append(index)\n",
    "        index = sequence.find(codon, index + len(codon))\n",
    "\n",
    "print(f'number of possible stop codons: {len(poss_stop_codons)}')"
   ]
  },
  {
   "cell_type": "markdown",
   "metadata": {},
   "source": [
    "We got possibile start and stop codons. Let's calculate the difference between indices for each pair to get a sense of presence of genes."
   ]
  },
  {
   "cell_type": "code",
   "execution_count": 30,
   "metadata": {},
   "outputs": [
    {
     "name": "stdout",
     "output_type": "stream",
     "text": [
      "possible start codons[:10]: [48, 189, 356, 678, 741, 757, 834, 885, 933, 1014]\n",
      "possible stop codons[:10]: [10, 27, 35, 65, 91, 102, 171, 177, 262, 423]\n"
     ]
    }
   ],
   "source": [
    "print(f'possible start codons[:10]: {poss_start_codons[:10]}')\n",
    "print(f'possible stop codons[:10]: {poss_stop_codons[:10]}')"
   ]
  },
  {
   "cell_type": "code",
   "execution_count": 31,
   "metadata": {},
   "outputs": [
    {
     "name": "stdout",
     "output_type": "stream",
     "text": [
      "number of possible genes: 899469\n"
     ]
    }
   ],
   "source": [
    "# iterating through the list of possible start codons\n",
    "poss_genes = []\n",
    "for start in poss_start_codons:\n",
    "    for stop in poss_stop_codons:\n",
    "        if stop > start:\n",
    "            length = stop - start\n",
    "            # print(f'stop codon - start codon: {length}')\n",
    "            poss_genes.append(length)\n",
    "\n",
    "# expecting to have 729 possible genes (same as number of possible start codons), but check\n",
    "print(f'number of possible genes: {len(poss_genes)}')"
   ]
  },
  {
   "cell_type": "markdown",
   "metadata": {},
   "source": [
    "The number of possible I got is greater than expected (there shouldn't be more genes than start codons). "
   ]
  },
  {
   "cell_type": "markdown",
   "metadata": {},
   "source": [
    "### Changing how I'm searching for gene presence. Using dictionary instead."
   ]
  },
  {
   "cell_type": "code",
   "execution_count": 6,
   "metadata": {},
   "outputs": [
    {
     "name": "stdout",
     "output_type": "stream",
     "text": [
      "first 5 possible start codons: [48, 189, 356, 678, 741]\n"
     ]
    }
   ],
   "source": [
    "print(f'first 5 possible start codons: {poss_start_codons[:5]}')"
   ]
  },
  {
   "cell_type": "code",
   "execution_count": 61,
   "metadata": {},
   "outputs": [
    {
     "name": "stdout",
     "output_type": "stream",
     "text": [
      "number of possible genes: 38216\n",
      "first 5 possible genes: [(17, (39301, 39318)), (43, (39244, 39287)), (54, (39301, 39355)), (123, (37961, 38084)), (129, (36995, 37124))]\n"
     ]
    }
   ],
   "source": [
    "poss_genes_dict = {}\n",
    "for start in poss_start_codons:\n",
    "    for stop in poss_stop_codons:\n",
    "        if stop > start:\n",
    "            poss_gene_len = stop - start\n",
    "            poss_genes_dict[poss_gene_len] = (start, stop)\n",
    "\n",
    "print(f'number of possible genes: {len(poss_genes_dict)}')\n",
    "# print([poss_genes_dict[k] for k in list(poss_genes_dict.keys())[:5]])\n",
    "print(f'first 5 possible genes: {list(poss_genes_dict.items())[:5]}')"
   ]
  },
  {
   "cell_type": "code",
   "execution_count": 35,
   "metadata": {},
   "outputs": [
    {
     "name": "stdout",
     "output_type": "stream",
     "text": [
      "possible genes: 686\n"
     ]
    }
   ],
   "source": [
    "# different approach: use while loop or change for loop\n",
    "\n",
    "poss_genes_dict = {}\n",
    "i_start = 0\n",
    "i_stop = 0\n",
    "while i_start < len(poss_start_codons):\n",
    "    if i_stop >= i_start:\n",
    "        length = poss_stop_codons[i_stop] - poss_start_codons[i_start]\n",
    "        poss_genes_dict[length] = (poss_start_codons[i_start], poss_stop_codons[i_stop])\n",
    "        i_start += 1\n",
    "        i_stop += 1\n",
    "    else:\n",
    "        i_stop += 1\n",
    "\n",
    "print(f'possible genes: {len(poss_genes_dict)}')"
   ]
  },
  {
   "cell_type": "markdown",
   "metadata": {},
   "source": [
    "### We have a reasonable number of possible genes in this region of the Forrest sequence. It is likely that the other 30 possible start codons are located such that their indices are bigger than the indices of the corresponding possible stop codons. Putting this into a function."
   ]
  },
  {
   "cell_type": "code",
   "execution_count": 36,
   "metadata": {},
   "outputs": [
    {
     "data": {
      "text/plain": [
       "{}"
      ]
     },
     "execution_count": 36,
     "metadata": {},
     "output_type": "execute_result"
    }
   ],
   "source": [
    "def get_possible_genes(poss_start_codons, poss_stop_codons):\n",
    "    \"\"\"Function takes list of possible start codons and list of possible stop codons.\n",
    "    It returns dictionary with the number of possible genes, where keys are the length of each possible gene\n",
    "    and values are the start, stop indices where the gene is.\"\"\"\n",
    "    poss_genes_dict = {}\n",
    "    i_start = 0\n",
    "    i_stop = 0\n",
    "    while i_start < len(poss_start_codons):\n",
    "        if i_stop > i_start:\n",
    "            length = poss_stop_codons[i_stop] - poss_start_codons[i_start]\n",
    "            poss_genes_dict[length] = (poss_start_codons[i_start], poss_stop_codons[i_stop])\n",
    "            i_start += 1\n",
    "            i_stop += 1\n",
    "        else:\n",
    "            i_stop += 1\n",
    "\n",
    "        return poss_genes_dict\n",
    "\n",
    "get_possible_genes (poss_start_codons, poss_stop_codons)"
   ]
  },
  {
   "cell_type": "markdown",
   "metadata": {},
   "source": [
    "Troubleshooting code for finding possible genes"
   ]
  },
  {
   "cell_type": "code",
   "execution_count": 7,
   "metadata": {},
   "outputs": [
    {
     "data": {
      "text/plain": [
       "'> [Glycine max] Forrest B100B10 BAC sequence, Rhg4CCCTCGCGAGTTGGTTCAGCTGCTGCCTGAGGCTGGACGACCTCGCGGAGTTCTACCGGCAGTGCAAATCCGTCGGCATCCAGGAAACCAGCAGCGGCTATCCGCGCATCCATGCCCCCGAACTGCAGGAGTGGGGAGGCACGATGGCCGCTTTGGTCGACCTGCAGGGGGGGGGGGCGCTGAGGTCTGCCTCGTGAAGAAGGTGTTGCTGACTCATACCAGGCCTGAATCGCCCCATCATCCAGCCAGA'"
      ]
     },
     "execution_count": 7,
     "metadata": {},
     "output_type": "execute_result"
    }
   ],
   "source": [
    "with open('Forrest B100B10 BAC sequence Rhg4.txt', 'r') as forrest_file:\n",
    "    forrest_seq = ''\n",
    "    file_line = forrest_file.readline().rstrip()\n",
    "    # forrest_lines += file_line\n",
    "\n",
    "    while file_line:\n",
    "        forrest_seq += file_line\n",
    "        file_line = forrest_file.readline().rstrip()\n",
    "\n",
    "forrest_seq[:300]"
   ]
  },
  {
   "cell_type": "code",
   "execution_count": 8,
   "metadata": {},
   "outputs": [
    {
     "name": "stdout",
     "output_type": "stream",
     "text": [
      "number of possible start codons: 729\n"
     ]
    }
   ],
   "source": [
    "def get_codon_indices(codon, sequence, start_point):\n",
    "    poss_indices = []\n",
    "    index = sequence.find(codon, start_point)\n",
    "    while index >= 0:\n",
    "        poss_indices.append(index)\n",
    "        index = sequence.find(codon, index+len(codon))\n",
    "    \n",
    "    return poss_indices\n",
    "\n",
    "start_codon = 'ATG'\n",
    "sequence = forrest_lines[:40811]\n",
    "start_point = 1419\n",
    "poss_start_codon_ind = get_codon_indices(start_codon, sequence, start_point)\n",
    "print(f'number of possible start codons: {len(poss_start_codon_ind)}')\n"
   ]
  },
  {
   "cell_type": "code",
   "execution_count": 39,
   "metadata": {},
   "outputs": [
    {
     "name": "stdout",
     "output_type": "stream",
     "text": [
      "number of possible stop codons: 833\n"
     ]
    }
   ],
   "source": [
    "stop_codons = ['TAA', 'TAG', 'TGA']\n",
    "start_point = 1419\n",
    "\n",
    "poss_stop_codon_ind = []\n",
    "for codon in stop_codons:\n",
    "    poss_stop_codon_ind = get_codon_indices(codon, sequence, start_point)\n",
    "\n",
    "print(f'number of possible stop codons: {len(poss_stop_codon_ind)}')\n"
   ]
  },
  {
   "cell_type": "code",
   "execution_count": 40,
   "metadata": {},
   "outputs": [
    {
     "name": "stdout",
     "output_type": "stream",
     "text": [
      "indices of first 5 possible start codons: [1467, 1608, 1775, 2097, 2160]\n",
      "indices of first 5 possible stop codons: [1468, 1486, 1795, 2079, 2203]\n"
     ]
    }
   ],
   "source": [
    "print(f'indices of first 5 possible start codons: {poss_start_codon_ind[:5]}')\n",
    "print(f'indices of first 5 possible stop codons: {poss_stop_codon_ind[:5]}')"
   ]
  },
  {
   "cell_type": "code",
   "execution_count": 42,
   "metadata": {},
   "outputs": [
    {
     "name": "stdout",
     "output_type": "stream",
     "text": [
      "number of possible start codons: 729\n",
      "if branch: poss_start_codons[i_start]:1467, poss_stop_codons[i_stop]:1468\n",
      "length: 1\n",
      "number of possible genes: 1\n",
      "possible genes: {(1467, 1468): 1}\n"
     ]
    }
   ],
   "source": [
    "# let's run the get_possible_genes function again\n",
    "\n",
    "def get_possible_genes(poss_start_codons, poss_stop_codons):\n",
    "    \"\"\"Function takes list of possible start codons and list of possible stop codons.\n",
    "    It returns dictionary with the number of possible genes, where keys are the length of each possible gene\n",
    "    and values are the start, stop indices where the gene is.\"\"\"\n",
    "    print(f'number of possible start codons: {len(poss_start_codons)}')\n",
    "    poss_genes_dict = {}\n",
    "    # i_start = 0\n",
    "    i_stop = 0\n",
    "    for i_start in range(len(poss_start_codons)):\n",
    "        if poss_stop_codons[i_stop] > poss_start_codons[i_start]:\n",
    "            print(f'if branch: poss_start_codons[i_start]:{poss_start_codons[i_start]}, poss_stop_codons[i_stop]:{poss_stop_codons[i_stop]}')\n",
    "            length = poss_stop_codons[i_stop] - poss_start_codons[i_start]\n",
    "            print(f'length: {length}')\n",
    "            poss_genes_dict[(poss_start_codons[i_start], poss_stop_codons[i_stop])] = length\n",
    "            i_start += 1\n",
    "            i_stop += 1\n",
    "        else:\n",
    "            print(f'else branch: poss_start_codons[i_start]:{poss_start_codons[i_start]}, poss_stop_codons[i_stop]:{poss_stop_codons[i_stop]}')\n",
    "            i_stop += 1\n",
    "\n",
    "        return poss_genes_dict\n",
    "\n",
    "poss_genes = get_possible_genes(poss_start_codon_ind, poss_stop_codon_ind)\n",
    "print(f'number of possible genes: {len(poss_genes)}')\n",
    "print(f'possible genes: {poss_genes}')"
   ]
  },
  {
   "cell_type": "markdown",
   "metadata": {},
   "source": [
    "### Changing to finding indices possible stop codons using each stop codon separately"
   ]
  },
  {
   "cell_type": "code",
   "execution_count": 9,
   "metadata": {},
   "outputs": [
    {
     "name": "stdout",
     "output_type": "stream",
     "text": [
      "number of possible start codons: 729\n"
     ]
    }
   ],
   "source": [
    "def find_possible_codons(codon, sequence):\n",
    "    poss_codons = []\n",
    "    index = sequence.find(codon)\n",
    "    while index >= 0:\n",
    "        poss_codons.append(index)\n",
    "        index = sequence.find(codon, index + len(codon))\n",
    "    return poss_codons\n",
    "\n",
    "start_codon = 'ATG'\n",
    "sequence = forrest_lines[1419:40811]\n",
    "poss_start_codons = find_possible_codons(start_codon, sequence)\n",
    "print(f'number of possible start codons: {len(poss_start_codons)}')"
   ]
  },
  {
   "cell_type": "code",
   "execution_count": 10,
   "metadata": {},
   "outputs": [
    {
     "name": "stdout",
     "output_type": "stream",
     "text": [
      "number of possible start codons: 729\n"
     ]
    }
   ],
   "source": [
    "def find_possible_codon_indices(codon, sequence):\n",
    "    poss_codon_ind = []\n",
    "    index = sequence.find(codon)\n",
    "    while index >= 0:\n",
    "        poss_codon_ind.append(index)\n",
    "        index = sequence.find(codon, index + len(codon))\n",
    "    return poss_codon_ind\n",
    "\n",
    "start_codon = 'ATG'\n",
    "start_point = 1419\n",
    "end_point = 40811\n",
    "sequence = forrest_lines[start_point:end_point]\n",
    "poss_start_codon_ind = find_possible_codon_indices(start_codon, sequence)\n",
    "print(f'number of possible start codons: {len(poss_start_codon_ind)}')"
   ]
  },
  {
   "cell_type": "markdown",
   "metadata": {},
   "source": [
    "#### When looking for indices of possible stop codons, I chose to not take mismatches like TAA to GAA into account. In addition to T (Thymine) being a because biologically speaking a lot would have to go wrong during DNA replication for such a mutation to occur. T (thymine) is a pyrimidine while G (guanine) is a purine. If in the parent DNA has T on one strand, it would have A (adenine, purine like G) on the other strand. If DNA Polymerase tried pairing G with A, this would distort the newly forming DNA molecule. Also, the structure of DNA Polymerase III is such that one of its domains (parts) corrects mistakes made during replication (like pairing C (cytosine) with A instead of T with A)."
   ]
  },
  {
   "cell_type": "markdown",
   "metadata": {},
   "source": [
    "#### One of the problems with the running of get_possible_genes function resulted from putting indices for all three stop codons into one single output list. Changing to using one output list for each of the three stop codons."
   ]
  },
  {
   "cell_type": "code",
   "execution_count": 11,
   "metadata": {},
   "outputs": [
    {
     "name": "stdout",
     "output_type": "stream",
     "text": [
      "number of possible TAA stop codons: 1163\n",
      "number of possible TAG stop codons: 533\n",
      "number of possible TGA stop codons: 833\n"
     ]
    }
   ],
   "source": [
    "stop_codon = 'TAA'\n",
    "poss_taa_stop_codons = find_possible_codons(stop_codon, sequence)\n",
    "print(f'number of possible {stop_codon} stop codons: {len(poss_taa_stop_codons)}')\n",
    "stop_codon = 'TAG'\n",
    "poss_tag_stop_codons = find_possible_codons(stop_codon, sequence)\n",
    "print(f'number of possible {stop_codon} stop codons: {len(poss_tag_stop_codons)}')\n",
    "stop_codon = 'TGA'\n",
    "poss_tga_stop_codons = find_possible_codons(stop_codon, sequence)\n",
    "print(f'number of possible {stop_codon} stop codons: {len(poss_tga_stop_codons)}')"
   ]
  },
  {
   "cell_type": "markdown",
   "metadata": {},
   "source": [
    "I have the number of possible stop codon indices for each of the three stop codons. Back to finding possible genes."
   ]
  },
  {
   "cell_type": "code",
   "execution_count": 12,
   "metadata": {},
   "outputs": [
    {
     "name": "stdout",
     "output_type": "stream",
     "text": [
      "number of possible genes with TAA stop codons: 25\n"
     ]
    }
   ],
   "source": [
    "def find_poss_genes(poss_start_codons, poss_stop_codons):\n",
    "    # print(f'first 5 possible start codons: {poss_start_codons[:5]}, first 5 possible stop codons: {poss_stop_codons[:5]}')\n",
    "    poss_genes = {}\n",
    "    i_start = 0\n",
    "    i_stop = 0\n",
    "\n",
    "    while i_start < len(poss_start_codons) and i_stop < len(poss_stop_codons):\n",
    "        if poss_stop_codons[i_stop] > poss_start_codons[i_start]:\n",
    "            gene_length = poss_stop_codons[i_stop] - poss_start_codons[i_start]\n",
    "            # prokaryotes have a typical gene length of 1000 base pairs and each codon is encoded by 3 bases\n",
    "            if gene_length >= 1000:\n",
    "                poss_genes[(poss_stop_codons[i_stop], poss_start_codons[i_start])] = gene_length\n",
    "            i_start += 1\n",
    "            i_stop += 1\n",
    "            continue\n",
    "        else:\n",
    "            i_stop += 1\n",
    "    \n",
    "    return poss_genes\n",
    "\n",
    "taa_genes = find_poss_genes(poss_start_codons, poss_taa_stop_codons)\n",
    "print(f'number of possible genes with TAA stop codons: {len(taa_genes)}')"
   ]
  },
  {
   "cell_type": "code",
   "execution_count": 51,
   "metadata": {},
   "outputs": [
    {
     "name": "stdout",
     "output_type": "stream",
     "text": [
      "number of possible genes with TAG stop codons: 477\n",
      "number of possible genes with TGA stop codons: 0\n"
     ]
    }
   ],
   "source": [
    "tag_genes = find_poss_genes(poss_start_codons, poss_tag_stop_codons)\n",
    "print(f'number of possible genes with TAG stop codons: {len(tag_genes)}')\n",
    "\n",
    "tga_genes = find_poss_genes(poss_start_codons, poss_tga_stop_codons)\n",
    "print(f'number of possible genes with TGA stop codons: {len(tga_genes)}')"
   ]
  },
  {
   "cell_type": "markdown",
   "metadata": {},
   "source": [
    "I have a working algorithm, but the way everything is written I need to run it for each range of alignment. It would be nice to have a way for the algorithm to run through the Forrest sequence without me having to manually move it from one range of alignment to another."
   ]
  },
  {
   "cell_type": "markdown",
   "metadata": {},
   "source": [
    "#### Plotting frequency of genes in the 1037-40810 range of alignment for TAA and TAG stop codons (this range of alignment did not have any possible genes that started at or after base pair 1419 for TGA stop codon)"
   ]
  },
  {
   "cell_type": "code",
   "execution_count": 15,
   "metadata": {},
   "outputs": [],
   "source": [
    "import matplotlib.pyplot as plt\n",
    "\n",
    "taa_genes = find_poss_genes(poss_start_codons, poss_taa_stop_codons)\n",
    "# print(f'possible genes with TAA as the stop codon: {taa_genes}')\n",
    "tag_genes = find_poss_genes(poss_start_codons, poss_tag_stop_codons)\n",
    "# print(f'possible genes with TAG as the stop codon: {tag_genes}')"
   ]
  },
  {
   "cell_type": "code",
   "execution_count": 12,
   "metadata": {},
   "outputs": [
    {
     "name": "stdout",
     "output_type": "stream",
     "text": [
      "taa_gene_length: 25\n",
      "\n",
      "tag_gene_length: 477\n"
     ]
    }
   ],
   "source": [
    "taa_gene_length = []\n",
    "for index_pairs, length in taa_genes.items():\n",
    "    taa_gene_length.append(length)\n",
    "\n",
    "print(f'taa_gene_length: {len(taa_gene_length)}')\n",
    "print()\n",
    "\n",
    "tag_gene_length = []\n",
    "for index_pairs, length in tag_genes.items():\n",
    "    tag_gene_length.append(length)\n",
    "\n",
    "print(f'tag_gene_length: {len(tag_gene_length)}')"
   ]
  },
  {
   "cell_type": "code",
   "execution_count": 31,
   "metadata": {},
   "outputs": [
    {
     "data": {
      "text/plain": [
       "Text(0, 0.5, 'Count')"
      ]
     },
     "execution_count": 31,
     "metadata": {},
     "output_type": "execute_result"
    },
    {
     "data": {
      "image/png": "[encoded data removed]",
      "text/plain": [
       "<Figure size 432x288 with 1 Axes>"
      ]
     },
     "metadata": {
      "needs_background": "light"
     },
     "output_type": "display_data"
    }
   ],
   "source": [
    "x_taa = taa_gene_length\n",
    "taa_bins = 5\n",
    "plt.hist(x_taa, bins=taa_bins)\n",
    "plt.xlabel('Length of each gene with TAA as the stop codon')\n",
    "plt.ylabel('Count')\n"
   ]
  },
  {
   "cell_type": "markdown",
   "metadata": {},
   "source": [
    "We see that most possible genes are 1300-1350 bp long. This is about 10 times lower than the typical gene length in cultivated soybean genomes."
   ]
  },
  {
   "cell_type": "code",
   "execution_count": 30,
   "metadata": {},
   "outputs": [
    {
     "data": {
      "text/plain": [
       "Text(0, 0.5, 'Count')"
      ]
     },
     "execution_count": 30,
     "metadata": {},
     "output_type": "execute_result"
    },
    {
     "data": {
      "image/png": "[encoded data removed]",
      "text/plain": [
       "<Figure size 432x288 with 1 Axes>"
      ]
     },
     "metadata": {
      "needs_background": "light"
     },
     "output_type": "display_data"
    }
   ],
   "source": [
    "# repeating for TAG stop codon\n",
    "\n",
    "x_tag = tag_gene_length\n",
    "tag_bins = 40\n",
    "plt.hist(x_tag, bins=tag_bins)\n",
    "plt.xlabel('Genes with TAG as the stop codon')\n",
    "plt.ylabel('Count')"
   ]
  },
  {
   "cell_type": "markdown",
   "metadata": {},
   "source": [
    "With TAG as the stop codon, we see two peaks. One peak is around 5500 bp length, the other peak is around 7500 bp gene length. These are looking more like they could be actual genes (though further analysis needs to be done to confirm this), because their nucleotide length is closer to the typical gene length for cultivated soybean of 18,000."
   ]
  },
  {
   "cell_type": "markdown",
   "metadata": {},
   "source": [
    "### I worked on the 1037-40810 (1036-40810 using Python indexing) range of alignment for this project. Taking the TATA box that preceeds every gene and the FASTA file header length into account, I ofset the starting index by the length of the header and the first index of the TATA box. I found indices of candidate start and stop codons and used them to find candidate genes. I found 25 candidate genes for the TAA (UAA in RNA) stop codon and 477 for the TAG (UAG in RNA) stop codon."
   ]
  }
 ],
 "metadata": {
  "kernelspec": {
   "display_name": "base",
   "language": "python",
   "name": "python3"
  },
  "language_info": {
   "codemirror_mode": {
    "name": "ipython",
    "version": 3
   },
   "file_extension": ".py",
   "mimetype": "text/x-python",
   "name": "python",
   "nbconvert_exporter": "python",
   "pygments_lexer": "ipython3",
   "version": "3.9.12"
  }
 },
 "nbformat": 4,
 "nbformat_minor": 2
}
