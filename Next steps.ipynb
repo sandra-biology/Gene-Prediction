{
 "cells": [
  {
   "cell_type": "markdown",
   "metadata": {},
   "source": [
    "\n",
    "In my Forrest Gene Search project notebook, I found about 500 candidate genes for the TAA and TAG stop codons. My next step is to find the sequences or subsequence of these candidate genes in Williams cultivar chromosome 8 sequence.\n",
    "\n",
    "A similar algorithm problem on LeetCode can be found at https://leetcode.com/problems/is-subsequence/description/. While I anticipate needing to account for mismatches in my search through the Williams cultivar chromosome 8, I am choosing to first solve this problem. I am putting my work for it in the LeetCode Subsequence Algorithm notebook."
   ]
  }
 ],
 "metadata": {
  "language_info": {
   "name": "python"
  }
 },
 "nbformat": 4,
 "nbformat_minor": 2
}
